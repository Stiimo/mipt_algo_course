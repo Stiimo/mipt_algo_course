{
 "cells": [
  {
   "cell_type": "markdown",
   "metadata": {},
   "source": [
    "# Обход графа: поиск в глубину."
   ]
  },
  {
   "cell_type": "markdown",
   "metadata": {},
   "source": [
    "Одним из основных алгоритмов является поиск в глубину (depth-first search, dfs). Он заключается в последовательности следующих действий:\n",
    "\n",
    "1. Заходит в вершину u и помечает ее, как посещенную;\n",
    "2. Перебирает все исходящие ребра из вершины u;\n",
    "3. Если вершина, в которую ведет ребро, еще не посещена, dfs переходит в нее, иначе пропускает;\n",
    "4. Если ребер больше нет, dfs выходит из вершины u.\n",
    "\n",
    "По факту, dfs идет по какому-то одному пути, пока не упрется в тупик. Далее он возращается на шаг назад и пытается пойти по другому пути. Так будет продолжаться, пока все вершины, доступные из какой-то стартовой вершины, не будут посещены. Наиболее часто dfs пишется рекурсивно, хотя и возможны нерекурсивные реализации. Асимптотика алгоритма $O(N + M)$. \n",
    "\n",
    "На самом деле этот алгоритм уже встречался при решении задач по динамике при помощи рекурсии с мемоизацией. Ведь состояния - вершины графа, а переходы - ребра. Кроме этого, dfs используют для разных целей:\n",
    "\n",
    "+ проверка ацикличности графа и поиск циклов,\n",
    "+ подсчет кол-ва компонент связности,\n",
    "+ поиск мостов и точек сочленения,\n",
    "+ топологическая сортировка графа,\n",
    "+ выполнение этапа препроцессинга для других алгоритмов.\n",
    "\n",
    "Рассмотрим подробнее некоторые применения. Отсюда и далее преполагаем, что граф мы храним в виде матрицы смежности."
   ]
  },
  {
   "cell_type": "markdown",
   "metadata": {},
   "source": [
    "## Количество компонент связности"
   ]
  },
  {
   "cell_type": "code",
   "execution_count": null,
   "metadata": {},
   "outputs": [],
   "source": [
    "used = [False] * n\n",
    "\n",
    "def dfs(u):\n",
    "    used[u] = True\n",
    "    for v in range(n):\n",
    "        if a[u][v] == 1 and not used[v]:\n",
    "            dfs(v)\n",
    "\n",
    "\n",
    "components = 0\n",
    "for i in range(n):\n",
    "    if not used[i]:\n",
    "        components += 1\n",
    "        dfs(i)\n",
    "print(componentes)"
   ]
  },
  {
   "cell_type": "markdown",
   "metadata": {},
   "source": [
    "## Поиск циклов в неориентированном графе"
   ]
  },
  {
   "cell_type": "code",
   "execution_count": null,
   "metadata": {},
   "outputs": [],
   "source": [
    "used = [False] * n\n",
    "\n",
    "def dfs(u, f):\n",
    "    used[u] = True\n",
    "    for v in range(n):\n",
    "        if a[u][v] == 1:\n",
    "            if not used[v]:\n",
    "                dfs(v)\n",
    "            elif v != f:\n",
    "                # Найден цикл\n",
    "\n",
    "\n",
    "for i in range(n):\n",
    "    if not used[i]:\n",
    "        dfs(i, -1)"
   ]
  },
  {
   "cell_type": "markdown",
   "metadata": {},
   "source": [
    "## Поиск циклов в ориентированном графе"
   ]
  },
  {
   "cell_type": "markdown",
   "metadata": {},
   "source": [
    "Для ориентированного графа чуть посложнее, двухцветная раскраска тут не поможет (предлагается самостоятельно найти пример, когда вышеприведенный код будет работать неверно). Будем использовать трехцветную расскраску:\n",
    "\n",
    "1. 0 - белая вершина, еще не посещалась,\n",
    "2. 1 - серая вершина, dfs прошел через вершину, но не вышел,\n",
    "3. 2 - черная вершина, dfs закончил ее обабтку."
   ]
  },
  {
   "cell_type": "code",
   "execution_count": null,
   "metadata": {},
   "outputs": [],
   "source": [
    "color = [0] * n\n",
    "\n",
    "def dfs(u):\n",
    "    color[u] = 1\n",
    "    for v in range(n):\n",
    "        if a[u][v] == 1:\n",
    "            if color[v] == 0:\n",
    "                dfs(v)\n",
    "            elif color[v] == 1:\n",
    "                # Найден цикл\n",
    "    color[u] = 2\n",
    "\n",
    "\n",
    "for i in range(n):\n",
    "    if coror[i] == 0:\n",
    "        dfs(i)"
   ]
  },
  {
   "cell_type": "markdown",
   "metadata": {},
   "source": [
    "## Топологическая сортировка"
   ]
  },
  {
   "cell_type": "markdown",
   "metadata": {},
   "source": [
    "Пусть есть ориентированный ациклический граф. Необходимо упорядочить вершины так, что если из вершины $u$ в вершину $v$ есть путь, то веришина $v$ стоит позже, чем вершина $u$."
   ]
  },
  {
   "cell_type": "code",
   "execution_count": null,
   "metadata": {},
   "outputs": [],
   "source": [
    "used = [False] * n\n",
    "order = []  # Порядок вершин\n",
    "\n",
    "def dfs(u):\n",
    "    used[u] = True\n",
    "    for v in range(n):\n",
    "        if a[u][v] == 1 and not used[v]:\n",
    "            dfs(v)\n",
    "    order.append(u)\n",
    "\n",
    "\n",
    "for i in range(n):\n",
    "    if in_degree(i) == 0:  # Количество ребер, заходящих в i\n",
    "        dfs(i)\n",
    "print(order)"
   ]
  }
 ],
 "metadata": {
  "kernelspec": {
   "display_name": "Python 3",
   "language": "python",
   "name": "python3"
  },
  "language_info": {
   "codemirror_mode": {
    "name": "ipython",
    "version": 3
   },
   "file_extension": ".py",
   "mimetype": "text/x-python",
   "name": "python",
   "nbconvert_exporter": "python",
   "pygments_lexer": "ipython3",
   "version": "3.6.7"
  }
 },
 "nbformat": 4,
 "nbformat_minor": 2
}
