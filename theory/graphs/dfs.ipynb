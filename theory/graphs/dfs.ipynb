{
 "cells": [
  {
   "cell_type": "markdown",
   "metadata": {},
   "source": [
    "# Обход графа: поиск в глубину."
   ]
  },
  {
   "cell_type": "markdown",
   "metadata": {},
   "source": [
    "Одним из основных алгоритмов является поиск в глубину (depth-first search, dfs). Dfs проходит по вершинам графа, помечая их как посещенные. Придя в вершину, dfs идет по первому ребру, ведущему в свободную вершину. Если в какой то момент из вершины нет ребер, или они ведут только в посещенные вершины, то для данной вершины обход окончен и алгоритм откатывается к предыдущей вершине и пытается пойти по следующему ребру. Так происходит, пока весь граф не будет посещен. Асимптотика алгоритма $O(N + M)$. Стоит заметить, что если граф не связный, то dfs посетит только вершины, достижимые из стартовой. Таким образом, алгоритм применяется для подсчета количества компонент связности. Рассмотрим эту задачу. Отсюда и далее преполагаем, что граф мы храним в виде матрицы смежности."
   ]
  },
  {
   "cell_type": "code",
   "execution_count": null,
   "metadata": {},
   "outputs": [],
   "source": [
    "used = [False] * n\n",
    "\n",
    "def dfs(u):\n",
    "    used[u] = True\n",
    "    for v in range(n):\n",
    "        if a[u][v] == 1 and not used[v]:\n",
    "            dfs(v)\n",
    "\n",
    "\n",
    "components = 0\n",
    "for i in range(n):\n",
    "    if not used[i]:\n",
    "        components += 1\n",
    "        dfs(i)\n",
    "print(componentes)"
   ]
  },
  {
   "cell_type": "markdown",
   "metadata": {},
   "source": [
    "Другой вариант применения - поиск циклов в графе. Сначала рассмотрим случай неориентированного графа."
   ]
  },
  {
   "cell_type": "code",
   "execution_count": null,
   "metadata": {},
   "outputs": [],
   "source": [
    "used = [False] * n\n",
    "\n",
    "def dfs(u, f):\n",
    "    used[u] = True\n",
    "    for v in range(n):\n",
    "        if a[u][v] == 1:\n",
    "            if not used[v]:\n",
    "                dfs(v)\n",
    "            elif v != f:\n",
    "                # Найден цикл\n",
    "\n",
    "\n",
    "for i in range(n):\n",
    "    if not used[i]:\n",
    "        dfs(i, -1)"
   ]
  },
  {
   "cell_type": "markdown",
   "metadata": {},
   "source": [
    "Для ориентированного графа чуть посложнее, двухцветная раскраска тут не поможет (предлагается самостоятельно найти пример, когда вышеприведенный код будет работать неверно). Будем использовать трехцветную расскраску:\n",
    "\n",
    "1. 0 - белая вершина, еще не посещалась,\n",
    "2. 1 - серая вершина, dfs прошел через вершину, но не вышел,\n",
    "3. 2 - черная вершина, dfs закончил ее обабтку."
   ]
  },
  {
   "cell_type": "code",
   "execution_count": null,
   "metadata": {},
   "outputs": [],
   "source": [
    "color = [0] * n\n",
    "\n",
    "def dfs(u):\n",
    "    color[u] = 1\n",
    "    for v in range(n):\n",
    "        if a[u][v] == 1:\n",
    "            if color[v] == 0:\n",
    "                dfs(v)\n",
    "            elif color[v] == 1:\n",
    "                # Найден цикл\n",
    "    color[u] = 2\n",
    "\n",
    "\n",
    "for i in range(n):\n",
    "    if coror[i] == 0:\n",
    "        dfs(i)"
   ]
  },
  {
   "cell_type": "markdown",
   "metadata": {},
   "source": [
    "Еще один из вариантов применения - топологическая сортировка. Пусть есть ориентированный ациклический граф. Необходимо упорядочить вершины так, что если из вершины $u$ в вершину $v$ есть путь, то веришина $v$ стоит позже, чем вершина $u$."
   ]
  },
  {
   "cell_type": "code",
   "execution_count": null,
   "metadata": {},
   "outputs": [],
   "source": [
    "used = [False] * n\n",
    "order = []  # Порядок вершин\n",
    "\n",
    "def dfs(u):\n",
    "    used[u] = True\n",
    "    for v in range(n):\n",
    "        if a[u][v] == 1 and not used[v]:\n",
    "            dfs(v)\n",
    "    order.append(u)\n",
    "\n",
    "\n",
    "for i in range(n):\n",
    "    if in_degree(i) == 0:  # Количество ребер, заходящих в i\n",
    "        dfs(i)\n",
    "print(order)"
   ]
  },
  {
   "cell_type": "markdown",
   "metadata": {},
   "source": [
    "Есть еще ряд применений dfs, например как препроцессинг в других алгоритмах. Но прицип написания и работы dfs остается таким же."
   ]
  }
 ],
 "metadata": {
  "kernelspec": {
   "display_name": "Python 3",
   "language": "python",
   "name": "python3"
  },
  "language_info": {
   "codemirror_mode": {
    "name": "ipython",
    "version": 3
   },
   "file_extension": ".py",
   "mimetype": "text/x-python",
   "name": "python",
   "nbconvert_exporter": "python",
   "pygments_lexer": "ipython3",
   "version": "3.6.7"
  }
 },
 "nbformat": 4,
 "nbformat_minor": 2
}
