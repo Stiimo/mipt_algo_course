{
 "cells": [
  {
   "cell_type": "markdown",
   "metadata": {},
   "source": [
    "# Хранение графов"
   ]
  },
  {
   "cell_type": "markdown",
   "metadata": {},
   "source": [
    "Есть 3 основных способа хранения графов:\n",
    "\n",
    "1. матрица смежности,\n",
    "2. список ребер,\n",
    "3. список смежности.\n",
    "\n",
    "Каждый из них лучше применим в тех или иных условиях. Рассмотрим для каждого из них чтение графа из входных данных (предполагается, что на вход граф подается в виде списка неориентированных ребер) и проход по всем ребрам для некоторой вершины. "
   ]
  },
  {
   "cell_type": "markdown",
   "metadata": {},
   "source": [
    "## Матрица смежности"
   ]
  },
  {
   "cell_type": "markdown",
   "metadata": {},
   "source": [
    "Самой простой в написании вариант, однако и требует больше всего памяти, $O(N^2)$. Обычно применяется в случае графов, близких к плотным графам, т.к. количество ребер будет близко к квадрату количества вершин. Однако для разреженных графов метод можно применять в случае небольшого количества вершин. Уже при $N \\approx 1000$ такая матрица будет занимать много места. Способ сам из себя представляет матрицу $A$ размера $N \\times N$, где $A_{ij}$ показывает наличие ребра $(i, j)$ в графе."
   ]
  },
  {
   "cell_type": "code",
   "execution_count": null,
   "metadata": {},
   "outputs": [],
   "source": [
    "n, m = map(int, input().strip().split())\n",
    "a = [[0] * n for _ in range(n)]\n",
    "for _ in range(m):\n",
    "    u, v = map(int, input().strip().split())\n",
    "    a[u][v] = 1\n",
    "    a[v][u] = 1\n",
    "    \n",
    "i  # вершина, для которой мы пробегаемся по ребрам\n",
    "for j in range(n):\n",
    "    if a[i][j] == 1:\n",
    "        # есть ребро из i в j"
   ]
  },
  {
   "cell_type": "markdown",
   "metadata": {},
   "source": [
    "# Список ребер"
   ]
  },
  {
   "cell_type": "markdown",
   "metadata": {},
   "source": [
    "Название метода тут говорит само за себя. Мы просто будем хранить массив пар вершин, между которыми проходит ребро. В случае неориентированного графа храним неориентированные ребра. Порядок хранения ребер не важен. Таким образом затрачивается памяти $O(M)$. "
   ]
  },
  {
   "cell_type": "code",
   "execution_count": null,
   "metadata": {},
   "outputs": [],
   "source": [
    "n, m = map(int, input().strip().split())\n",
    "edges = []\n",
    "for _ in range(m):\n",
    "    u, v = map(int, input().strip().split())\n",
    "    edges.append((u, v))\n",
    "    \n",
    "i  # вершина, для которой мы пробегаемся по ребрам\n",
    "for u, v in edges:\n",
    "    if u == i or v == i\n",
    "        # есть ребро из i == u в v или из i == v в u"
   ]
  },
  {
   "cell_type": "markdown",
   "metadata": {},
   "source": [
    "Поменяем немного способ хранения ребер:\n",
    "\n",
    "1. теперь мы храним ориентированные ребра,\n",
    "2. список ребер отсортирован,\n",
    "3. для каждой вершины храним позиции первого и последнего ребер в списке.\n",
    "\n",
    "Таким образом нам не придется проходить по всему списку, перебирая ребра для одной вершины. Однако такое улучшение требует $O(n + m)$ памяти."
   ]
  },
  {
   "cell_type": "code",
   "execution_count": null,
   "metadata": {},
   "outputs": [],
   "source": [
    "n, m = map(int, input().strip().split())\n",
    "edges = []\n",
    "for _ in range(m):\n",
    "    u, v = map(int, input().strip().split())\n",
    "    edges.append((u, v))\n",
    "    edges.append((v, u))\n",
    "edges.sort()\n",
    "positions = [(0, 0)] * n\n",
    "prev = edges[0][0]\n",
    "begin = 0\n",
    "for i in range(1, m * 2):\n",
    "    if edges[i][0] != prev:\n",
    "        positions[prev] = (begin, i)\n",
    "        prev = edges[i][0]\n",
    "        begin = i\n",
    "positions[prev] = (begin, len(edges))\n",
    "    \n",
    "i  # вершина, для которой мы пробегаемся по ребрам\n",
    "for _, j in edges[positions[i][0]:positions[i][1]]:\n",
    "    # есть ребро из i в j"
   ]
  },
  {
   "cell_type": "markdown",
   "metadata": {},
   "source": [
    "## Список смежности"
   ]
  },
  {
   "cell_type": "markdown",
   "metadata": {},
   "source": [
    "Список смежности из себя представляет список списков или список сетов. Где каждый внутренний список/сет хранит вершины, в которые есть ребра из нашей вершины. Обратите внимание, что такой способ хранит **только** ориентированные ребра. Способ с сетам **не** работает для кратных ребер. Требования к памяти - $O(n + m)$."
   ]
  },
  {
   "cell_type": "code",
   "execution_count": null,
   "metadata": {},
   "outputs": [],
   "source": [
    "n, m = map(int, input().strip().split())\n",
    "adj_list = [{} for _ in range(n)]\n",
    "for _ in range(m):\n",
    "    u, v = map(int, input().strip().split())\n",
    "    adj_list[u].add(v)\n",
    "    adj_list[v].add(u)\n",
    "    \n",
    "i  # вершина, для которой мы пробегаемся по ребрам\n",
    "for j in adj_list[i]:\n",
    "    # есть ребро из i в j"
   ]
  }
 ],
 "metadata": {
  "kernelspec": {
   "display_name": "Python 3",
   "language": "python",
   "name": "python3"
  },
  "language_info": {
   "codemirror_mode": {
    "name": "ipython",
    "version": 3
   },
   "file_extension": ".py",
   "mimetype": "text/x-python",
   "name": "python",
   "nbconvert_exporter": "python",
   "pygments_lexer": "ipython3",
   "version": "3.6.7"
  }
 },
 "nbformat": 4,
 "nbformat_minor": 2
}
