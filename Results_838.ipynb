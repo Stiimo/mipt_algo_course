{
 "cells": [
  {
   "cell_type": "markdown",
   "metadata": {},
   "source": [
    "# Таблица результатов"
   ]
  },
  {
   "cell_type": "code",
   "execution_count": 3,
   "metadata": {},
   "outputs": [
    {
     "data": {
      "text/html": [
       "<style  type=\"text/css\" >\n",
       "    #T_e6698d32_2a1c_11e9_a1c5_50b7c3d7e20frow17_col0 {\n",
       "            font-weight:  bold;\n",
       "        }</style>  \n",
       "<table id=\"T_e6698d32_2a1c_11e9_a1c5_50b7c3d7e20f\" > \n",
       "<thead>    <tr> \n",
       "        <th class=\"blank level0\" ></th> \n",
       "        <th class=\"col_heading level0 col0\" >ФИО</th> \n",
       "    </tr></thead> \n",
       "<tbody>    <tr> \n",
       "        <th id=\"T_e6698d32_2a1c_11e9_a1c5_50b7c3d7e20flevel0_row0\" class=\"row_heading level0 row0\" >0</th> \n",
       "        <td id=\"T_e6698d32_2a1c_11e9_a1c5_50b7c3d7e20frow0_col0\" class=\"data row0 col0\" >Аксенова Ольга Михайловна</td> \n",
       "    </tr>    <tr> \n",
       "        <th id=\"T_e6698d32_2a1c_11e9_a1c5_50b7c3d7e20flevel0_row1\" class=\"row_heading level0 row1\" >1</th> \n",
       "        <td id=\"T_e6698d32_2a1c_11e9_a1c5_50b7c3d7e20frow1_col0\" class=\"data row1 col0\" >Аниканов Ильяс Султанович</td> \n",
       "    </tr>    <tr> \n",
       "        <th id=\"T_e6698d32_2a1c_11e9_a1c5_50b7c3d7e20flevel0_row2\" class=\"row_heading level0 row2\" >2</th> \n",
       "        <td id=\"T_e6698d32_2a1c_11e9_a1c5_50b7c3d7e20frow2_col0\" class=\"data row2 col0\" >Белозеров Артем Сергеевич</td> \n",
       "    </tr>    <tr> \n",
       "        <th id=\"T_e6698d32_2a1c_11e9_a1c5_50b7c3d7e20flevel0_row3\" class=\"row_heading level0 row3\" >3</th> \n",
       "        <td id=\"T_e6698d32_2a1c_11e9_a1c5_50b7c3d7e20frow3_col0\" class=\"data row3 col0\" >Борисова Полина Игоревна</td> \n",
       "    </tr>    <tr> \n",
       "        <th id=\"T_e6698d32_2a1c_11e9_a1c5_50b7c3d7e20flevel0_row4\" class=\"row_heading level0 row4\" >4</th> \n",
       "        <td id=\"T_e6698d32_2a1c_11e9_a1c5_50b7c3d7e20frow4_col0\" class=\"data row4 col0\" >Галимова Камилла Рамилевна</td> \n",
       "    </tr>    <tr> \n",
       "        <th id=\"T_e6698d32_2a1c_11e9_a1c5_50b7c3d7e20flevel0_row5\" class=\"row_heading level0 row5\" >5</th> \n",
       "        <td id=\"T_e6698d32_2a1c_11e9_a1c5_50b7c3d7e20frow5_col0\" class=\"data row5 col0\" >Грачёва Вероника Алексеевна</td> \n",
       "    </tr>    <tr> \n",
       "        <th id=\"T_e6698d32_2a1c_11e9_a1c5_50b7c3d7e20flevel0_row6\" class=\"row_heading level0 row6\" >6</th> \n",
       "        <td id=\"T_e6698d32_2a1c_11e9_a1c5_50b7c3d7e20frow6_col0\" class=\"data row6 col0\" >Гусев Константин Алексеевич</td> \n",
       "    </tr>    <tr> \n",
       "        <th id=\"T_e6698d32_2a1c_11e9_a1c5_50b7c3d7e20flevel0_row7\" class=\"row_heading level0 row7\" >7</th> \n",
       "        <td id=\"T_e6698d32_2a1c_11e9_a1c5_50b7c3d7e20frow7_col0\" class=\"data row7 col0\" >Иванова Софья Артуровна</td> \n",
       "    </tr>    <tr> \n",
       "        <th id=\"T_e6698d32_2a1c_11e9_a1c5_50b7c3d7e20flevel0_row8\" class=\"row_heading level0 row8\" >8</th> \n",
       "        <td id=\"T_e6698d32_2a1c_11e9_a1c5_50b7c3d7e20frow8_col0\" class=\"data row8 col0\" >Колодуб Никита Антонович</td> \n",
       "    </tr>    <tr> \n",
       "        <th id=\"T_e6698d32_2a1c_11e9_a1c5_50b7c3d7e20flevel0_row9\" class=\"row_heading level0 row9\" >9</th> \n",
       "        <td id=\"T_e6698d32_2a1c_11e9_a1c5_50b7c3d7e20frow9_col0\" class=\"data row9 col0\" >Крайнова Екатерина Дмитриевна</td> \n",
       "    </tr>    <tr> \n",
       "        <th id=\"T_e6698d32_2a1c_11e9_a1c5_50b7c3d7e20flevel0_row10\" class=\"row_heading level0 row10\" >10</th> \n",
       "        <td id=\"T_e6698d32_2a1c_11e9_a1c5_50b7c3d7e20frow10_col0\" class=\"data row10 col0\" >Кузьмина Татьяна Романовна</td> \n",
       "    </tr>    <tr> \n",
       "        <th id=\"T_e6698d32_2a1c_11e9_a1c5_50b7c3d7e20flevel0_row11\" class=\"row_heading level0 row11\" >11</th> \n",
       "        <td id=\"T_e6698d32_2a1c_11e9_a1c5_50b7c3d7e20frow11_col0\" class=\"data row11 col0\" >Куликова Екатерина Алексеевна</td> \n",
       "    </tr>    <tr> \n",
       "        <th id=\"T_e6698d32_2a1c_11e9_a1c5_50b7c3d7e20flevel0_row12\" class=\"row_heading level0 row12\" >12</th> \n",
       "        <td id=\"T_e6698d32_2a1c_11e9_a1c5_50b7c3d7e20frow12_col0\" class=\"data row12 col0\" >Малык Дарья Владимировна</td> \n",
       "    </tr>    <tr> \n",
       "        <th id=\"T_e6698d32_2a1c_11e9_a1c5_50b7c3d7e20flevel0_row13\" class=\"row_heading level0 row13\" >13</th> \n",
       "        <td id=\"T_e6698d32_2a1c_11e9_a1c5_50b7c3d7e20frow13_col0\" class=\"data row13 col0\" >Мурзабаев Даниил Шакирович</td> \n",
       "    </tr>    <tr> \n",
       "        <th id=\"T_e6698d32_2a1c_11e9_a1c5_50b7c3d7e20flevel0_row14\" class=\"row_heading level0 row14\" >14</th> \n",
       "        <td id=\"T_e6698d32_2a1c_11e9_a1c5_50b7c3d7e20frow14_col0\" class=\"data row14 col0\" >Немытков Андрей Игоревич</td> \n",
       "    </tr>    <tr> \n",
       "        <th id=\"T_e6698d32_2a1c_11e9_a1c5_50b7c3d7e20flevel0_row15\" class=\"row_heading level0 row15\" >15</th> \n",
       "        <td id=\"T_e6698d32_2a1c_11e9_a1c5_50b7c3d7e20frow15_col0\" class=\"data row15 col0\" >Руднев Максим Александрович</td> \n",
       "    </tr>    <tr> \n",
       "        <th id=\"T_e6698d32_2a1c_11e9_a1c5_50b7c3d7e20flevel0_row16\" class=\"row_heading level0 row16\" >16</th> \n",
       "        <td id=\"T_e6698d32_2a1c_11e9_a1c5_50b7c3d7e20frow16_col0\" class=\"data row16 col0\" >Смирнов Григорий Константинович</td> \n",
       "    </tr>    <tr> \n",
       "        <th id=\"T_e6698d32_2a1c_11e9_a1c5_50b7c3d7e20flevel0_row17\" class=\"row_heading level0 row17\" >17</th> \n",
       "        <td id=\"T_e6698d32_2a1c_11e9_a1c5_50b7c3d7e20frow17_col0\" class=\"data row17 col0\" >Максимум</td> \n",
       "    </tr></tbody> \n",
       "</table> "
      ],
      "text/plain": [
       "<pandas.io.formats.style.Styler at 0x7f2d3d1ed7b8>"
      ]
     },
     "execution_count": 3,
     "metadata": {},
     "output_type": "execute_result"
    }
   ],
   "source": [
    "data.style.set_properties(pd.IndexSlice[17:, :], **{\"font-weight\": \"bold\"})"
   ]
  },
  {
   "cell_type": "code",
   "execution_count": 1,
   "metadata": {},
   "outputs": [],
   "source": [
    "import pandas as pd"
   ]
  },
  {
   "cell_type": "code",
   "execution_count": 2,
   "metadata": {},
   "outputs": [],
   "source": [
    "data = pd.read_csv(\"results_838.csv\", header=0)"
   ]
  }
 ],
 "metadata": {
  "kernelspec": {
   "display_name": "Python 3",
   "language": "python",
   "name": "python3"
  },
  "language_info": {
   "codemirror_mode": {
    "name": "ipython",
    "version": 3
   },
   "file_extension": ".py",
   "mimetype": "text/x-python",
   "name": "python",
   "nbconvert_exporter": "python",
   "pygments_lexer": "ipython3",
   "version": "3.6.7"
  }
 },
 "nbformat": 4,
 "nbformat_minor": 2
}
