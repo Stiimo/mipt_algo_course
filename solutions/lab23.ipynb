{
 "cells": [
  {
   "cell_type": "markdown",
   "metadata": {},
   "source": [
    "# Хеширование и хеш-таблицы"
   ]
  },
  {
   "cell_type": "markdown",
   "metadata": {},
   "source": [
    "## Упражнение №1"
   ]
  },
  {
   "cell_type": "code",
   "execution_count": 1,
   "metadata": {},
   "outputs": [
    {
     "name": "stdout",
     "output_type": "stream",
     "text": [
      "hello\n",
      "15263440\n"
     ]
    }
   ],
   "source": [
    "def poly_hash(s):\n",
    "    h = 0\n",
    "    base = 37\n",
    "    for c in s:\n",
    "        h = h * base + ord(c) - ord('a') + 1\n",
    "    return h\n",
    "\n",
    "\n",
    "if __name__ == \"__main__\":\n",
    "    s = input()\n",
    "    print(poly_hash(s))"
   ]
  },
  {
   "cell_type": "markdown",
   "metadata": {},
   "source": [
    "## Упражнение № 2"
   ]
  },
  {
   "cell_type": "code",
   "execution_count": 4,
   "metadata": {},
   "outputs": [
    {
     "name": "stdout",
     "output_type": "stream",
     "text": [
      "abc\n",
      "adbcbccabcbbaabc\n",
      "7 13 "
     ]
    }
   ],
   "source": [
    "def poly_hash(s):\n",
    "    h = [0]\n",
    "    p = [1]\n",
    "    base = 37\n",
    "    for c in s:\n",
    "        h.append(h[-1] * base + ord(c) - ord('a') + 1)\n",
    "        p.append(p[-1] * base)\n",
    "    return (h, p)\n",
    "\n",
    "\n",
    "if __name__ == \"__main__\":\n",
    "    s = input()\n",
    "    t = input()\n",
    "    s_hash, _ = poly_hash(s)\n",
    "    s_hash = s_hash[-1]\n",
    "    h, p = poly_hash(t)\n",
    "    for l in range(len(t) - len(s) + 1):\n",
    "        r = l + len(s)\n",
    "        if s_hash == h[r] - h[l] * p[r - l]:\n",
    "            print(l, end=' ')"
   ]
  },
  {
   "cell_type": "markdown",
   "metadata": {},
   "source": [
    "# Упражнения № 3 и № 4"
   ]
  },
  {
   "cell_type": "code",
   "execution_count": 6,
   "metadata": {},
   "outputs": [
    {
     "name": "stdout",
     "output_type": "stream",
     "text": [
      "add hello\n",
      "add bye\n",
      "find bye\n",
      "Yes\n",
      "delete bye\n",
      "find bye\n",
      "No\n",
      "find hello\n",
      "Yes\n",
      "exit\n"
     ]
    }
   ],
   "source": [
    "SIZE = 10 ** 5 + 7\n",
    "\n",
    "\n",
    "def poly_hash(s):\n",
    "    h = 0\n",
    "    base = 37\n",
    "    for c in s:\n",
    "        h = h * base + ord(c) - ord('a') + 1\n",
    "    return h\n",
    "\n",
    "\n",
    "def get_pos(h):\n",
    "    return h % SIZE\n",
    "\n",
    "\n",
    "def new_entry(h, key):\n",
    "    return {\n",
    "        \"hash\": h,\n",
    "        \"key\": key\n",
    "    }\n",
    "\n",
    "\n",
    "def find(table, h, key):\n",
    "    pos = get_pos(h)\n",
    "    for e in table[pos]:\n",
    "        if e[\"hash\"] == h:\n",
    "            return e\n",
    "    return None\n",
    "\n",
    "\n",
    "def add(table, h, key):\n",
    "    if find(table, h, key):\n",
    "        return\n",
    "    pos = get_pos(h)\n",
    "    table[pos].append(new_entry(h, key))\n",
    "    \n",
    "    \n",
    "def delete(table, h, key):\n",
    "    e = find(table, h, key)\n",
    "    if e is not None:\n",
    "        pos = get_pos(h)\n",
    "        table[pos].remove(e)\n",
    "    \n",
    "\n",
    "if __name__ == \"__main__\":\n",
    "    table = [[] for _ in range(SIZE)]\n",
    "    while True:\n",
    "        cmd = input().strip().split()\n",
    "        if len(cmd) > 1:\n",
    "            h = poly_hash(cmd[1])\n",
    "        if cmd[0] == \"exit\":\n",
    "            break\n",
    "        elif cmd[0] == \"add\":\n",
    "            add(table, h, cmd[1])\n",
    "        elif cmd[0] == \"find\":\n",
    "            if find(table, h, cmd[1]):\n",
    "                print(\"Yes\")\n",
    "            else:\n",
    "                print(\"No\")\n",
    "        elif cmd[0] == \"delete\":\n",
    "            delete(table, h, cmd[1])"
   ]
  },
  {
   "cell_type": "markdown",
   "metadata": {},
   "source": [
    "# Упражнение № 5"
   ]
  },
  {
   "cell_type": "code",
   "execution_count": 8,
   "metadata": {},
   "outputs": [
    {
     "name": "stdout",
     "output_type": "stream",
     "text": [
      "add hello 10\n",
      "add bye 16\n",
      "find bye\n",
      "16\n",
      "delete bye\n",
      "edit bye 5\n",
      "Query error\n",
      "find hello\n",
      "10\n",
      "edit hello 8\n",
      "find hello\n",
      "8\n",
      "exit\n"
     ]
    }
   ],
   "source": [
    "SIZE = 10 ** 5 + 7\n",
    "\n",
    "\n",
    "def poly_hash(s):\n",
    "    h = 0\n",
    "    base = 37\n",
    "    for c in s:\n",
    "        h = h * base + ord(c) - ord('a') + 1\n",
    "    return h\n",
    "\n",
    "\n",
    "def get_pos(h):\n",
    "    return h % SIZE\n",
    "\n",
    "\n",
    "def new_entry(h, key, val):\n",
    "    return {\n",
    "        \"hash\": h,\n",
    "        \"key\": key,\n",
    "        \"value\": val\n",
    "    }\n",
    "\n",
    "\n",
    "def find(table, h, key):\n",
    "    pos = get_pos(h)\n",
    "    for e in table[pos]:\n",
    "        if e[\"hash\"] == h:\n",
    "            return e\n",
    "    return None\n",
    "\n",
    "\n",
    "def add(table, h, key, val):\n",
    "    if find(table, h, key):\n",
    "        return\n",
    "    pos = get_pos(h)\n",
    "    table[pos].append(new_entry(h, key, val))\n",
    "    \n",
    "    \n",
    "def delete(table, h, key):\n",
    "    e = find(table, h, key)\n",
    "    if e is not None:\n",
    "        pos = get_pos(h)\n",
    "        table[pos].remove(e)\n",
    "    \n",
    "\n",
    "def edit(table, h, key, val):\n",
    "    e = find(table, h, key)\n",
    "    if e is not None:\n",
    "        e[\"value\"] = val\n",
    "    else:\n",
    "        print(\"Query error\")\n",
    "\n",
    "    \n",
    "if __name__ == \"__main__\":\n",
    "    table = [[] for _ in range(SIZE)]\n",
    "    while True:\n",
    "        cmd = input().strip().split()\n",
    "        if len(cmd) > 1:\n",
    "            h = poly_hash(cmd[1])\n",
    "        if cmd[0] == \"exit\":\n",
    "            break\n",
    "        elif cmd[0] == \"add\":\n",
    "            add(table, h, cmd[1], int(cmd[2]))\n",
    "        elif cmd[0] == \"find\":\n",
    "            e = find(table, h, cmd[1]) \n",
    "            if e:\n",
    "                print(e[\"value\"])\n",
    "            else:\n",
    "                print(\"No\")\n",
    "        elif cmd[0] == \"delete\":\n",
    "            delete(table, h, cmd[1])\n",
    "        elif cmd[0] == \"edit\":\n",
    "            edit(table, h, cmd[1], int(cmd[2]))"
   ]
  }
 ],
 "metadata": {
  "kernelspec": {
   "display_name": "Python 3",
   "language": "python",
   "name": "python3"
  },
  "language_info": {
   "codemirror_mode": {
    "name": "ipython",
    "version": 3
   },
   "file_extension": ".py",
   "mimetype": "text/x-python",
   "name": "python",
   "nbconvert_exporter": "python",
   "pygments_lexer": "ipython3",
   "version": "3.6.7"
  }
 },
 "nbformat": 4,
 "nbformat_minor": 2
}
