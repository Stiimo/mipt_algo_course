{
 "cells": [
  {
   "cell_type": "markdown",
   "metadata": {},
   "source": [
    "# Словари и множества в Python"
   ]
  },
  {
   "cell_type": "markdown",
   "metadata": {},
   "source": [
    "## Упражнение №1"
   ]
  },
  {
   "cell_type": "code",
   "execution_count": 1,
   "metadata": {},
   "outputs": [
    {
     "name": "stdout",
     "output_type": "stream",
     "text": [
      "l w p f q "
     ]
    }
   ],
   "source": [
    "if __name__ == \"__main__\":\n",
    "    A = set('bqlpzlkwehrlulsdhfliuywemrlkjhsdlfjhlzxcovt')\n",
    "    B = set('zmxcvnboaiyerjhbziuxdytvasenbriutsdvinjhgik')\n",
    "    for x in A:\n",
    "        if x not in B:\n",
    "            print(x, end=\" \")"
   ]
  },
  {
   "cell_type": "markdown",
   "metadata": {},
   "source": [
    "## Упражнение №2"
   ]
  },
  {
   "cell_type": "code",
   "execution_count": 2,
   "metadata": {},
   "outputs": [
    {
     "name": "stdout",
     "output_type": "stream",
     "text": [
      "{'1', '3'}\n"
     ]
    }
   ],
   "source": [
    "if __name__ == \"__main__\":\n",
    "    A = set('0123456789')\n",
    "    B = set('02468')\n",
    "    C = set('12345')\n",
    "    D = set('56789')\n",
    "    E = (A - B) & (C - D) | (D - A) & (B - C)\n",
    "    print(E)"
   ]
  },
  {
   "cell_type": "markdown",
   "metadata": {},
   "source": [
    "Обратите внимание, что конструкции (A - B) & (C - D) и (D - A) & (B - C) можно не оборачивать в скобки, т.к. приоритет операции & выше, чем |. Подробнее смотрите в [документации](https://docs.python.org/3/reference/expressions.html#operator-precedence)."
   ]
  },
  {
   "cell_type": "markdown",
   "metadata": {},
   "source": [
    "## Упражнение №3"
   ]
  },
  {
   "cell_type": "markdown",
   "metadata": {},
   "source": [
    "Путь к файлу лицензии меняется в зависимости от системы. К тому же в моем случае у него и другое название. Для пользователей Windows: не забывайте открывать файл с кодировкой UTF-8."
   ]
  },
  {
   "cell_type": "code",
   "execution_count": 3,
   "metadata": {},
   "outputs": [
    {
     "name": "stdout",
     "output_type": "stream",
     "text": [
      "the 100\n",
      "2 96\n",
      "or 87\n",
      "1 76\n",
      "of 70\n",
      "to 58\n",
      "and 55\n",
      "python 50\n",
      "in 46\n",
      "psf 43\n"
     ]
    }
   ],
   "source": [
    "from string import punctuation\n",
    "\n",
    "if __name__ == \"__main__\":\n",
    "    with open(\"/usr/share/doc/python/copyright\") as f:\n",
    "        s = f.read()\n",
    "    for c in punctuation:\n",
    "        s = s.replace(c, ' ')\n",
    "    s = s.lower().split()\n",
    "    counter = {}\n",
    "    for w in s:\n",
    "        counter[w] = counter.get(w, 0) + 1\n",
    "    try:\n",
    "        del counter[\"\"]\n",
    "    except:\n",
    "        pass\n",
    "    stat = sorted(counter.items(), reverse=True, key=lambda x: (x[1], x[0]))\n",
    "    for pair in stat[:10]:\n",
    "        print(*pair)"
   ]
  },
  {
   "cell_type": "markdown",
   "metadata": {},
   "source": [
    "## Упражнение №4"
   ]
  },
  {
   "cell_type": "code",
   "execution_count": 4,
   "metadata": {},
   "outputs": [],
   "source": [
    "from string import ascii_letters\n",
    "\n",
    "if __name__ == \"__main__\":\n",
    "    letters = set(ascii_letters)\n",
    "    with open(\"en-ru.txt\") as f:\n",
    "        d = {k: v for k, v in map(lambda x: x.strip().split(\"\\t-\\t\"), f.readlines())}\n",
    "    with open(\"input.txt\") as fin, open(\"output.txt\", \"w\") as fout:\n",
    "        for line in fin:\n",
    "            word = \"\"\n",
    "            to_write = \"\"\n",
    "            for c in line:\n",
    "                if c in letters:\n",
    "                    word += c\n",
    "                else:\n",
    "                    if word:\n",
    "                        if word.isupper():\n",
    "                            up = \"all\"\n",
    "                        elif word[0].isupper():\n",
    "                            up = \"cap\"\n",
    "                        else:\n",
    "                            up =\"none\"\n",
    "                        word = d.get(word.lower(), word.lower())\n",
    "                        if up == \"all\":\n",
    "                            word = word.upper()\n",
    "                        elif up == \"cap\":\n",
    "                            word = word.capitalize()\n",
    "                        to_write += word\n",
    "                    word = \"\"\n",
    "                    to_write += c\n",
    "            fout.write(to_write)"
   ]
  },
  {
   "cell_type": "code",
   "execution_count": 5,
   "metadata": {},
   "outputs": [
    {
     "name": "stdout",
     "output_type": "stream",
     "text": [
      "Дорого банка Blatter, colleagues о the власть английский. Помеха я говорить из мой сердце в Английский.\r\n",
      "\r\n",
      "Мой friends, день есть вид замечательный момент в время, оба для мой деревня и для FIFA. Россия represents его вновь horizons для\r\n",
      "FIFA. Россия обеспечения a большой в о наш боевой. Millions о вновь hearts и minds оно тоже обеспечения a богачи наследство после The\r\n",
      "Worldcup. Богачи вновь stadiums и millions о boys и girls embracing с.\r\n",
      "\r\n",
      "Россия's экономия есть большой и выращивание. The Союзный государственная has конюшня finances. Россия's спортивный предметы есть\r\n",
      "developing rapidly. Едва один наказание: день русский companies если над один биллион dollars в sponsorship для the\r\n",
      "Sochi Олимпийский Азартные. Воображать как много investiment будет be изготовленный в камера, данный то камера есть играть насчитывать один.\r\n",
      "Наш попытка есть a какого-л. порядок для the Русский Федерация. Если вы давать мы a рисковать, FIFA воля никогда сожаление оно. Вы воля\r\n",
      "be гордость о the выбор. Я гарантировать оно. Я тоже обещание это, в 2018 Я'll говорить Английский влечения мой помогать Jeoff Thompson.\r\n",
      "\r\n",
      "Дорого friends. Вы бидон видеть на the карта. Вестерн Европа hosted The Мир Чашка много раз. Востока Европа никогда had the\r\n",
      "рисковать. Много years ago the Железо Настенный был destroyed. И a вновь эра для the мир began. День мы бидон жидкости другая\r\n",
      "символический настенный. И начинать a вновь эра в камера вместе.\r\n",
      "\r\n",
      "Благодарить вы истинный много мой friends.\r\n"
     ]
    }
   ],
   "source": [
    "!cat output.txt"
   ]
  },
  {
   "cell_type": "markdown",
   "metadata": {},
   "source": [
    "## Упражнение №5"
   ]
  },
  {
   "cell_type": "code",
   "execution_count": 7,
   "metadata": {},
   "outputs": [
    {
     "name": "stdout",
     "output_type": "stream",
     "text": [
      "1\n",
      "русский\n",
      "Киргизия Россия Беларусь Казахстан\n"
     ]
    }
   ],
   "source": [
    "if __name__ == \"__main__\":\n",
    "    lang_to_country = {}\n",
    "    with open(\"input.txt\") as f:\n",
    "        for line in f:\n",
    "            country, langs = line.strip().split(\" : \")\n",
    "            langs = langs.split()\n",
    "            for lang in langs:\n",
    "                lang_to_country[lang] = lang_to_country.get(lang, []) + [country]\n",
    "    n = int(input())\n",
    "    for _ in range(n):\n",
    "        lang = input()\n",
    "        print(*lang_to_country[lang])   "
   ]
  },
  {
   "cell_type": "markdown",
   "metadata": {},
   "source": [
    "## Упражнение №6"
   ]
  },
  {
   "cell_type": "code",
   "execution_count": 11,
   "metadata": {},
   "outputs": [],
   "source": [
    "if __name__ == \"__main__\":\n",
    "    ru_to_eng = {}\n",
    "    with open(\"en-ru.txt\") as f:\n",
    "        for line in f:\n",
    "            eng, ru = line.strip().split(\"\\t-\\t\")\n",
    "            ru = ru.split(\", \")\n",
    "            for word in ru:\n",
    "                ru_to_eng[word] = ru_to_eng.get(word, []) + [eng]\n",
    "    for k, v in ru_to_eng.items():\n",
    "        ru_to_eng[k] = \", \".join(sorted(v, key=lambda x: x.lower()))\n",
    "    arr = sorted(ru_to_eng.items(), key=lambda x: x[0].lower())\n",
    "    with open(\"ru-en.txt\", \"w\") as f:\n",
    "        f.write(\"\\n\".join(map(lambda x: \"\\t-\\t\".join(x), arr)))"
   ]
  },
  {
   "cell_type": "markdown",
   "metadata": {},
   "source": [
    "Результат не выкладываю, т.к. файл довольно большой. Заметьте, что в 6 и 7 упражнениях во входных файлах есть строки, где не соблюдался установленный формат. В этих строках стоит знак =. Я предварительно просто избавился от таких строк."
   ]
  },
  {
   "cell_type": "markdown",
   "metadata": {},
   "source": [
    "## Упражнение №7"
   ]
  },
  {
   "cell_type": "code",
   "execution_count": 20,
   "metadata": {},
   "outputs": [],
   "source": [
    "if __name__ == \"__main__\":\n",
    "    ru_to_en = {}\n",
    "    en_to_ru = {}\n",
    "    with open(\"en-ru.txt\") as f:\n",
    "        for line in f:\n",
    "            en, ru = line.strip().split(\"\\t-\\t\")\n",
    "            ru = ru.split(\", \")\n",
    "            for word in ru:\n",
    "                en_to_ru[en] = en_to_ru.get(en, set()) | {word}\n",
    "                if word in ru_to_en:\n",
    "                    ru_to_en[word].add(en)\n",
    "                else:\n",
    "                    ru_to_en[word] = {en}\n",
    "    with open(\"ru-en.txt\") as f:\n",
    "        for line in f:\n",
    "            ru, en = line.strip().split(\"\\t-\\t\")\n",
    "            en = en.split(\", \")\n",
    "            for word in en:\n",
    "                ru_to_en[ru] = ru_to_en.get(ru, set()) | {word}\n",
    "                if word in en_to_ru:\n",
    "                    en_to_ru[word].add(ru)\n",
    "                else:\n",
    "                    en_to_ru[word] = {ru}\n",
    "    for k, v in en_to_ru.items():\n",
    "        en_to_ru[k] = \", \".join(sorted(v, key=lambda x: x.lower()))\n",
    "    arr = sorted(en_to_ru.items(), key=lambda x: x[0].lower())\n",
    "    with open(\"en-ru.txt\", \"w\") as f:\n",
    "        f.write(\"\\n\".join(map(lambda x: \"\\t-\\t\".join(x), arr)))            \n",
    "    for k, v in ru_to_en.items():\n",
    "        ru_to_en[k] = \", \".join(sorted(v, key=lambda x: x.lower()))\n",
    "    arr = sorted(ru_to_en.items(), key=lambda x: x[0].lower())\n",
    "    with open(\"ru-en.txt\", \"w\") as f:\n",
    "        f.write(\"\\n\".join(map(lambda x: \"\\t-\\t\".join(x), arr)))"
   ]
  },
  {
   "cell_type": "markdown",
   "metadata": {},
   "source": [
    "## Упражнение №8"
   ]
  },
  {
   "cell_type": "code",
   "execution_count": 14,
   "metadata": {},
   "outputs": [
    {
     "name": "stdout",
     "output_type": "stream",
     "text": [
      "2\n"
     ]
    }
   ],
   "source": [
    "if __name__ == \"__main__\":\n",
    "    f = open(\"input.txt\")\n",
    "    n, m, k = map(int, f.readline().strip().split())\n",
    "    keys = []\n",
    "    for line in f:\n",
    "        line = line.split(\",\")\n",
    "        keys.append({int(x[0]): int(x[1]) for x in map(lambda x: x.split(), line)})\n",
    "    f.close()\n",
    "    visited = set()\n",
    "    my_keys = {}\n",
    "    while m != n:\n",
    "        for i, j in keys[m].items():\n",
    "            i -= k\n",
    "            if i in visited:\n",
    "                continue\n",
    "            my_keys[i] = j\n",
    "        visited.add(m)\n",
    "        while m in visited and my_keys:\n",
    "            m, k = list(my_keys.items())[0]\n",
    "            del my_keys[m]\n",
    "        if m in visited:\n",
    "            k = None\n",
    "            break\n",
    "    print(k)"
   ]
  }
 ],
 "metadata": {
  "kernelspec": {
   "display_name": "Python 3",
   "language": "python",
   "name": "python3"
  },
  "language_info": {
   "codemirror_mode": {
    "name": "ipython",
    "version": 3
   },
   "file_extension": ".py",
   "mimetype": "text/x-python",
   "name": "python",
   "nbconvert_exporter": "python",
   "pygments_lexer": "ipython3",
   "version": "3.6.7"
  }
 },
 "nbformat": 4,
 "nbformat_minor": 2
}
