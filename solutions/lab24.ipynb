{
 "cells": [
  {
   "cell_type": "markdown",
   "metadata": {},
   "source": [
    "# Контрольная работа №1, второй семестр"
   ]
  },
  {
   "cell_type": "markdown",
   "metadata": {},
   "source": [
    "## Задача B"
   ]
  },
  {
   "cell_type": "markdown",
   "metadata": {},
   "source": [
    "Для решения задачи необходимо было придумать линейный алгоритм нахождения циклического сдвига. Для этого нужно посчитать Z-функцию для строки `A + \"#\" + B + B`. Ответом была первая позиция в массиве (не забываем сначала убрать ненужый кусок с массива со значениями для префикса `A + \"#\"`), где значение Z-функции равно `|A|`. Аналогично можно было применить префикс функцию."
   ]
  },
  {
   "cell_type": "markdown",
   "metadata": {},
   "source": [
    "## Задача D"
   ]
  },
  {
   "cell_type": "markdown",
   "metadata": {},
   "source": [
    "Решение задачи требует использование алгоритма Левештейна, который позволяет вычислить редакционное расстояние. Алгоритм представляет из себя несложную двумерную динамику."
   ]
  },
  {
   "cell_type": "code",
   "execution_count": 1,
   "metadata": {},
   "outputs": [
    {
     "name": "stdout",
     "output_type": "stream",
     "text": [
      "abcdef\n",
      "cdefab\n",
      "4\n"
     ]
    }
   ],
   "source": [
    "if __name__ == \"__main__\":\n",
    "    s = input()\n",
    "    t = input()\n",
    "    n = len(s) + 1\n",
    "    m = len(t) + 1\n",
    "    d = [[0] * m for _ in range(n)]\n",
    "    for i in range(n):\n",
    "        d[i][0] = i\n",
    "    for j in range(m):\n",
    "        d[0][j] = j\n",
    "    for i in range(1, n):\n",
    "        for j in range(1, m):\n",
    "            d[i][j] = min(d[i][j - 1] + 1,\n",
    "                          d[i - 1][j] + 1,\n",
    "                          d[i - 1][j - 1] + (1 if s[i - 1] != t[j - 1] else 0))\n",
    "    print(d[n - 1][m - 1])"
   ]
  },
  {
   "cell_type": "markdown",
   "metadata": {},
   "source": [
    "## Задача F"
   ]
  },
  {
   "cell_type": "markdown",
   "metadata": {},
   "source": [
    "Данная задача проста в написании, но требует хорошего понимания условия. В задаче необходимо найти матожидание количества потомков, имеющих хотя бы одну `А` в генотипе. Опустим принципы наследования, это школьная тема. Посмотрим на количество возможных потомков, имеющих хотя бы одну `A` для каждой возможной пары родителей: 4, 4, 4, 3, 2 и 0 соответственно. Считая, что потомок каждого типа может появиться с равной вероятностью, посмотрим на вероятность появления искомого потомка в каждой группе: 1, 1, 1, 0.75, 0.5 и 0 соответсвтенно. Дальше просто необходимо умножить вероятность на удвоенное (т.к. по условию задачи 2 потомка у каждой пары) количество пар в каждой категории и просуммировать."
   ]
  },
  {
   "cell_type": "code",
   "execution_count": 2,
   "metadata": {},
   "outputs": [
    {
     "name": "stdout",
     "output_type": "stream",
     "text": [
      "1 0 0 1 0 1\n",
      "3.5\n"
     ]
    }
   ],
   "source": [
    "if __name__ == \"__main__\":\n",
    "    a = map(int, input().strip().split())\n",
    "    c = 0\n",
    "    for i, j in zip(a, [2, 2, 2, 1.5, 1, 0]):\n",
    "        c += i * j\n",
    "    print(c)"
   ]
  },
  {
   "cell_type": "markdown",
   "metadata": {},
   "source": [
    "## Задача G"
   ]
  },
  {
   "cell_type": "markdown",
   "metadata": {},
   "source": [
    "Для решение задачи необходимо было найти подстроку длины равной сумме длин шаблонов. Подстрока должна состоять из шаблонов, как из подпоследовательностей. Т.е. относительный порядок символов внутри каждой подпоследовательности **не меняется**. Просто перебираем подстроки, пытаясь рекурсивно расплести ее на шаблоны. Возможная оптимизация: проверять множества символов в подстроке и шаблонах. Если не равны, то пропускаем подстроку. "
   ]
  },
  {
   "cell_type": "code",
   "execution_count": 2,
   "metadata": {},
   "outputs": [
    {
     "name": "stdout",
     "output_type": "stream",
     "text": [
      "GACCACGGTT\n",
      "ACAG\n",
      "CCG\n",
      "Yes\n"
     ]
    }
   ],
   "source": [
    "def check(s, t, u):\n",
    "    if t == u == \"\":\n",
    "        return True\n",
    "    result = False\n",
    "    if t and s[0] == t[0]:\n",
    "        result |= check(s[1:], t[1:], u)\n",
    "    if not result and u and s[0] == u[0]:\n",
    "        result |= check(s[1:], t, u[1:])\n",
    "    return result\n",
    "\n",
    "\n",
    "if __name__ == \"__main__\":\n",
    "    s = input()\n",
    "    t = input()\n",
    "    u = input()\n",
    "    n = len(t)\n",
    "    m = len(u)\n",
    "    for i in range(len(s) - n - m):\n",
    "        if set(s[i:i + n + m]) == set(t) | set(u) and check(s[i:i + n + m], t, u):\n",
    "            print(\"Yes\")\n",
    "            exit(0)\n",
    "    print(\"No\")"
   ]
  },
  {
   "cell_type": "markdown",
   "metadata": {},
   "source": [
    "## Задача H"
   ]
  },
  {
   "cell_type": "markdown",
   "metadata": {},
   "source": [
    "Для решения задачи можно было использовать как питоновские хеши, так и полиномиальные. Однако, следует учесть, что если не ограничивать полиномиальные хеши по значению, решение получит Memory Limit. Тогда просто берем достаточно большое число, которым ограничим значения хешей. Например, 2<sup>64</sup>. И дальше используем остаток от деления на это число. "
   ]
  },
  {
   "cell_type": "markdown",
   "metadata": {},
   "source": [
    "## Задача I"
   ]
  },
  {
   "cell_type": "markdown",
   "metadata": {},
   "source": [
    "Для решения задачи необходимо было написать алгоритм, работающий за линейное время. Работает он в 2 этапа. На первом этапе просто вычислим префикс-функцию от нашей строки. На втором будем вычислять значения B-функции, используя значения префикс-функции с первого этапа. Будем двигаться по массиву $\\pi$, поддерживая в переменной $m$ наибольшее пройденное значение префикс-функции. Пусть наш итератор $l = \\pi_j$. Рассмотрим 2 случая: $l \\le m$ и $l \\gt m$.\n",
    "\n",
    "$l \\le m$:\n",
    "В таком случае мы уже раньше встречали подстроку, совпадающую с $s_{j-\\pi_j+1}...s_j$ минимум 2 раза, причем для позиции $j$ длина $\\pi_j$ максимальна. Значит значение B-функции для позиции $j$ равно значению префикс-фукнции в этой позиции.\n",
    "<img src=\"files/l_le_m.png\">\n",
    "\n",
    "$l \\gt m$:\n",
    "В этом случае подстрока $s_{j-\\pi_j+1}...s_j$ встречалась ровно один раз и она является префиксом $s_0...s_{\\pi_j-1}$ строки. Тогда просто воспользуемся уже посчитанным значением для позиции $\\pi_j-1$.\n",
    "<img src=\"files/l_gt_m.png\">"
   ]
  },
  {
   "cell_type": "code",
   "execution_count": 4,
   "metadata": {},
   "outputs": [
    {
     "name": "stdout",
     "output_type": "stream",
     "text": [
      "abacabacabacaba\n",
      "0 0 0 0 1 0 1 0 1 2 3 4 5 6 7\n"
     ]
    }
   ],
   "source": [
    "def prefix_func(s):\n",
    "    n = len(s)\n",
    "    pi = [0] * n\n",
    "    for i in range(1, n):\n",
    "        j = pi[i - 1]\n",
    "        while j > 0 and s[j] != s[i]:\n",
    "            j = pi[j - 1]\n",
    "        if s[j] == s[i]:\n",
    "            j += 1\n",
    "        pi[i] = j\n",
    "    return pi\n",
    "\n",
    "\n",
    "def b_func(s):\n",
    "    pi = prefix_func(s)\n",
    "    b = []\n",
    "    m = 0\n",
    "    for l in pi:\n",
    "        if m >= l:\n",
    "            b.append(l)\n",
    "        else:\n",
    "            b.append(pi[l - 1])\n",
    "        m = max(l, m)\n",
    "    return b\n",
    "\n",
    "\n",
    "if __name__ == \"__main__\":\n",
    "    s = input()\n",
    "    print(\" \".join(map(str, b_func(s))))"
   ]
  },
  {
   "cell_type": "markdown",
   "metadata": {},
   "source": [
    "## Задача J"
   ]
  },
  {
   "cell_type": "markdown",
   "metadata": {},
   "source": [
    "Для решения задачи нужно было придумать способ подсчета подпалиндромов быстрее, чем $O(n^2)$. У задачи есть ряд разных решений. Одним из них является алгоритм Манакера. ПРинцип его работы и доказательство линейности вы можете прочитать в разделе [Нахождение всех подпалиндромов](https://e-maxx.ru/algo/palindromes_count) на e-maxx. Сам алгоритм очень сильно похож на z-функцию, в следствии чего самостоятельный разбор алгоритма не должен даставить трудностей. Стоит заметить, что алгоритм дополнительно имеет возможность поиска палиндромов четной длины, но в задаче нужны только нечетные."
   ]
  },
  {
   "cell_type": "code",
   "execution_count": 5,
   "metadata": {},
   "outputs": [
    {
     "name": "stdout",
     "output_type": "stream",
     "text": [
      "aaaaa\n",
      "1 3 5 3 1\n"
     ]
    }
   ],
   "source": [
    "def manaker(s):\n",
    "    left = right = 0\n",
    "    n = len(s)\n",
    "    p = [0] * n\n",
    "    for i in range(1, n):\n",
    "        if i <= right:\n",
    "            p[i] = min(right - i, p[left + right - i])\n",
    "        while p[i] < i and i + p[i] + 1 < n and\\\n",
    "                s[i - p[i] - 1] == s[i + p[i] + 1]:\n",
    "            p[i] += 1\n",
    "        if i + p[i] > right:\n",
    "            left = i - p[i]\n",
    "            right = i + p[i]\n",
    "    for i in range(n):\n",
    "        p[i] = p[i] * 2 + 1\n",
    "    return p\n",
    "\n",
    "\n",
    "if __name__ == \"__main__\":\n",
    "    s = input()\n",
    "    print(\" \".join(map(str, manaker(s))))"
   ]
  }
 ],
 "metadata": {
  "kernelspec": {
   "display_name": "Python 3",
   "language": "python",
   "name": "python3"
  },
  "language_info": {
   "codemirror_mode": {
    "name": "ipython",
    "version": 3
   },
   "file_extension": ".py",
   "mimetype": "text/x-python",
   "name": "python",
   "nbconvert_exporter": "python",
   "pygments_lexer": "ipython3",
   "version": "3.6.7"
  }
 },
 "nbformat": 4,
 "nbformat_minor": 2
}
