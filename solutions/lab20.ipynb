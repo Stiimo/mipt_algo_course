{
 "cells": [
  {
   "cell_type": "markdown",
   "metadata": {},
   "source": [
    "# Работа со строками, Z-функция и КМП."
   ]
  },
  {
   "cell_type": "markdown",
   "metadata": {},
   "source": [
    "В основном, для решения задач в этой лабе понадобятся префикс и z функции. Разбор алгоритмов и некоторых упражнений приведен в лабе и/или на e-maxx, тут будут приведены уже сами решения с необходимыми комментариями."
   ]
  },
  {
   "cell_type": "code",
   "execution_count": null,
   "metadata": {},
   "outputs": [],
   "source": [
    "def z_func(s):\n",
    "    n = len(s)\n",
    "    z = [0] * n\n",
    "    l = r = 0\n",
    "    for i in range(1, n):\n",
    "        if (i <= r):\n",
    "            z[i] = min(z[l - i], r - i + 1)\n",
    "        while i + z[i] < n and s[z[i]] == s[z[i] + i]:\n",
    "            z[i] += 1\n",
    "        if i + z[i] - 1 > r:\n",
    "            l, r = i, i + z[i] - 1\n",
    "    return z\n",
    "\n",
    "\n",
    "def pref_func(s):\n",
    "    n = len(s)\n",
    "    pi = [0] * n\n",
    "    for i in range(1, n):\n",
    "        j = pi[i - 1]\n",
    "        while j > 0 and s[i] != s[j]:\n",
    "            j = pi[j - 1]\n",
    "        if s[i] == s[j]:\n",
    "            j += 1\n",
    "        pi[i] = j\n",
    "    return pi"
   ]
  },
  {
   "cell_type": "markdown",
   "metadata": {},
   "source": [
    "## Упражнение №2"
   ]
  },
  {
   "cell_type": "code",
   "execution_count": null,
   "metadata": {},
   "outputs": [],
   "source": [
    "if __name__ == \"__main__\":\n",
    "    t, p = input(), input()\n",
    "    z = z_func(p + \"#\" + t)\n",
    "    n = len(p)\n",
    "    for i in range(n + 1, len(z)):\n",
    "        if z[i] == n:\n",
    "            print(i - n - 1)       "
   ]
  },
  {
   "cell_type": "markdown",
   "metadata": {},
   "source": [
    "## Упражнение №3"
   ]
  },
  {
   "cell_type": "code",
   "execution_count": null,
   "metadata": {},
   "outputs": [],
   "source": [
    "if __name__ == \"__main__\":\n",
    "    s = input()\n",
    "    ans = 0\n",
    "    t = \"\"\n",
    "    for c in s:\n",
    "        t = c + t\n",
    "        ans += len(t) - max(z_func(t))\n",
    "    print(ans)"
   ]
  },
  {
   "cell_type": "markdown",
   "metadata": {},
   "source": [
    "## Упражнение №4"
   ]
  },
  {
   "cell_type": "markdown",
   "metadata": {},
   "source": [
    "В Python у циклов тоже есть конструкция `else`, которая выполняется только если цикл завершисля нормально (по достижению конца итерируемого объекта в `for` и по достижению значения `False` в условии для `while`). Если выполнение цикла прервано, конструкция `else` не выполняется."
   ]
  },
  {
   "cell_type": "code",
   "execution_count": null,
   "metadata": {},
   "outputs": [],
   "source": [
    "if __name__ == \"__main__\":\n",
    "    s = input()\n",
    "    z = z_func(s)\n",
    "    n = len(z)\n",
    "    for i in range(n):\n",
    "        if i + z[i] == n and n % i == 0:\n",
    "            print(s[:i])\n",
    "            break\n",
    "    else:\n",
    "        print(s)"
   ]
  },
  {
   "cell_type": "markdown",
   "metadata": {},
   "source": [
    "## Упражнение №6"
   ]
  },
  {
   "cell_type": "markdown",
   "metadata": {},
   "source": [
    "В лабе ответ дан для нумерации с 1, тут с 0."
   ]
  },
  {
   "cell_type": "code",
   "execution_count": null,
   "metadata": {},
   "outputs": [],
   "source": [
    "if __name__ == \"__main__\":\n",
    "    s, t = input(), input()\n",
    "    pi = pref_func(t + \"#\" + s)\n",
    "    n = len(t)\n",
    "    for i in range(n + 1, len(pi)):\n",
    "        if pi[i] == n:\n",
    "            print(i - 2 * n)  "
   ]
  },
  {
   "cell_type": "markdown",
   "metadata": {},
   "source": [
    "## Упражнение №7"
   ]
  },
  {
   "cell_type": "code",
   "execution_count": null,
   "metadata": {},
   "outputs": [],
   "source": [
    "if __name__ == \"__main__\":\n",
    "    n = int(input())\n",
    "    s = input() + \"#\"\n",
    "    pi = pref_func(s)\n",
    "    prev = 0  # Значение префикс-функции для предыдущего символа в тексте\n",
    "    c = input()\n",
    "    i = 0\n",
    "    while c:  # Критерий останова - пустая строка на входе\n",
    "        j = prev\n",
    "        while j > 0 and c != s[j]:\n",
    "            j = pi[j - 1]\n",
    "        if c == s[j]:\n",
    "            j += 1\n",
    "        prev = j\n",
    "        if j == n:\n",
    "            print(i - n + 1)\n",
    "        i += 1\n",
    "        c = input()"
   ]
  },
  {
   "cell_type": "markdown",
   "metadata": {},
   "source": [
    "Обратите внимание, что в лабе нет упражения №8, т.к. оно было удалено, а нумерацию забыли поправить. Я созраню нумерацию из лабы во избежание путаницы."
   ]
  },
  {
   "cell_type": "markdown",
   "metadata": {},
   "source": [
    "## Упражнение №9"
   ]
  },
  {
   "cell_type": "markdown",
   "metadata": {},
   "source": [
    "Решение абсолютно такое же, как и в случае с z-функцией. Нам здесь важно само максимальное значение функции, а не его позиция."
   ]
  },
  {
   "cell_type": "code",
   "execution_count": null,
   "metadata": {},
   "outputs": [],
   "source": [
    "if __name__ == \"__main__\":\n",
    "    s = input()\n",
    "    ans = 0\n",
    "    t = \"\"\n",
    "    for c in s:\n",
    "        t = c + t\n",
    "        ans += len(t) - max(pref_func(t))\n",
    "    print(ans)"
   ]
  },
  {
   "cell_type": "markdown",
   "metadata": {},
   "source": [
    "## Упражнение №10"
   ]
  },
  {
   "cell_type": "code",
   "execution_count": null,
   "metadata": {},
   "outputs": [],
   "source": [
    "if __name__ == \"__main__\":\n",
    "    s = input()\n",
    "    pi = pref_func(s)\n",
    "    k = len(s) - pi[-1]\n",
    "    if len(s) % k:\n",
    "        print(s)\n",
    "    else:\n",
    "        print(s[:k])"
   ]
  },
  {
   "cell_type": "markdown",
   "metadata": {},
   "source": [
    "## Упражнение №11"
   ]
  },
  {
   "cell_type": "markdown",
   "metadata": {},
   "source": [
    "В этом упражнении не надо использовать префикс или z функции. Тут просто проходим по строке s, ищем первое вхождение первого символа из t. Дальше ищем первое вхождение второго символа из t в **остаток** строки s. И так далее, пока строка t не закончится. Как я понял, в этой задаче решение всегда существует. Обратите внимание, что в лабе нумерация с 1, тут с 0."
   ]
  },
  {
   "cell_type": "code",
   "execution_count": null,
   "metadata": {},
   "outputs": [],
   "source": [
    "if __name__ == \"__main__\":\n",
    "    s, t  = input(), input()\n",
    "    j = 0\n",
    "    for i in range(len(s)):\n",
    "        if s[i] == t[j]:\n",
    "            print(i, end = \" \")\n",
    "            j += 1\n",
    "            if j == len(t):\n",
    "                break"
   ]
  }
 ],
 "metadata": {
  "kernelspec": {
   "display_name": "Python 3",
   "language": "python",
   "name": "python3"
  },
  "language_info": {
   "codemirror_mode": {
    "name": "ipython",
    "version": 3
   },
   "file_extension": ".py",
   "mimetype": "text/x-python",
   "name": "python",
   "nbconvert_exporter": "python",
   "pygments_lexer": "ipython3",
   "version": "3.6.7"
  }
 },
 "nbformat": 4,
 "nbformat_minor": 2
}
