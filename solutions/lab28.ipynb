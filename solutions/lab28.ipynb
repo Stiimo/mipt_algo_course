{
 "cells": [
  {
   "cell_type": "markdown",
   "metadata": {},
   "source": [
    "# Контест: поиск в ширину"
   ]
  },
  {
   "cell_type": "markdown",
   "metadata": {},
   "source": [
    "## Задача C"
   ]
  },
  {
   "cell_type": "markdown",
   "metadata": {},
   "source": [
    "Для решения задачи можно было использовать как алгоритм Ли, так и bfs. Тут главное правильно учитывать возможные ходы (проверка на выход за пределы поля, наличие препятствий). Учтите, что наличие пряпятсвий по краям поля не гарантировано. В теории поле может полностью состоять из пробелов. "
   ]
  },
  {
   "cell_type": "code",
   "execution_count": null,
   "metadata": {},
   "outputs": [],
   "source": [
    "from collections import deque\n",
    "\n",
    "if __name__ == \"__main__\":\n",
    "    n, m = map(int, input().strip().split())\n",
    "    s = tuple(map(int, input().strip().split()))\n",
    "    t = tuple(map(int, input().strip().split()))\n",
    "    field = []\n",
    "    for _ in range(n):\n",
    "        field.append(input())\n",
    "    d = [[-1] * m for _ in range(n)]\n",
    "    d[s[0]][s[1]] = 0\n",
    "    q = deque()\n",
    "    q.append(s)\n",
    "    while q:\n",
    "        u = q.popleft()\n",
    "        for i, j in [(1, 0), (0, -1), (-1, 0), (0, 1)]:\n",
    "            v = (u[0] + i, u[1] + j)\n",
    "            if 0 <= v[0] < n and 0 <= v[1] < m and field[v[0]][v[1]] == \" \" and d[v[0]][v[1]] == -1:\n",
    "                d[v[0]][v[1]] = d[u[0]][u[1]] + 1\n",
    "                q.append(v)\n",
    "    print(\"INF\" if d[t[0]][t[1]] == -1 else d[t[0]][t[1]])"
   ]
  },
  {
   "cell_type": "markdown",
   "metadata": {},
   "source": [
    "## Задача D"
   ]
  },
  {
   "cell_type": "markdown",
   "metadata": {},
   "source": [
    "Данная задача похожа на предыдущую. Отличие в том, что шаги - ход шахматного коня. И ответом является сам кратчайший путь. Для этого заведем массив p размера 8х8, где ячейки будут содержать либо -1 (нет предыдущей вершины), либо координаты предыдущей вершины."
   ]
  },
  {
   "cell_type": "code",
   "execution_count": null,
   "metadata": {},
   "outputs": [],
   "source": [
    "from collections import deque\n",
    "\n",
    "if __name__ == \"__main__\":\n",
    "    to_int = lambda x: (ord(x[0]) - ord(\"a\"), int(x[1]) - 1)\n",
    "    to_chr = lambda x: chr(x[0] + ord(\"a\")) + str(x[1] + 1)\n",
    "    s = to_int(input().strip())\n",
    "    t = to_int(input().strip())\n",
    "    d = [[-1] * 8 for _ in range(8)]\n",
    "    d[s[0]][s[1]] = 0\n",
    "    p = [[-1] * 8 for _ in range(8)]\n",
    "    q = deque()\n",
    "    q.append(s)\n",
    "    moves = [(+1, +2), (+2, +1), (+2, -1), (+1, -2),\n",
    "             (-1, -2), (-2, -1), (-2, +1), (-1, +2)]\n",
    "    while q:\n",
    "        u = q.popleft()\n",
    "        for i, j in moves:\n",
    "            v = (u[0] + i, u[1] + j)\n",
    "            if 0 <= v[0] < 8 and 0 <= v[1] < 8 and d[v[0]][v[1]] == -1:\n",
    "                d[v[0]][v[1]] = d[u[0]][u[1]] + 1\n",
    "                p[v[0]][v[1]] = u\n",
    "                q.append(v)\n",
    "    path = [to_chr(t)]\n",
    "    c = t\n",
    "    while p[c[0]][c[1]] != -1:\n",
    "        c = p[c[0]][c[1]]\n",
    "        path.append(to_chr(c))\n",
    "    print(\"\\n\".join(reversed(path)))"
   ]
  },
  {
   "cell_type": "markdown",
   "metadata": {},
   "source": [
    "## Задача E"
   ]
  },
  {
   "cell_type": "markdown",
   "metadata": {},
   "source": [
    "В данной задаче нужно было построить остовное дерево. Другими словами, выбрать те ребра, которые оставляют граф связным и не образуют цикл. Идея следующая. Запустим bfs из любой вершины (например, из 0). Каждый раз, когда условие `d[v] == -1` выполняется, то добавляем ребро (u, v) в список ребер остовного дерева. Так как bfs никогда не идет по циклу, то выбранный набор ребер. Сам граф изначально связный, в этом случае bfs обязательно обойдет все вершины. Не забываем, что в задаче граф **неориентированный**."
   ]
  },
  {
   "cell_type": "code",
   "execution_count": null,
   "metadata": {},
   "outputs": [],
   "source": [
    "from collections import deque\n",
    "\n",
    "if __name__ == \"__main__\":\n",
    "    n, m = map(int, input().strip().split())\n",
    "    adj_list = [[] for _ in range(n)]\n",
    "    for _ in range(m):\n",
    "        u, v = map(int, input().strip().split())\n",
    "        adj_list[u].append(v)\n",
    "        adj_list[v].append(u)\n",
    "    d = [-1] * n\n",
    "    d[0] = 0\n",
    "    q = deque()\n",
    "    q.append(0)\n",
    "    edges = []\n",
    "    while q:\n",
    "        u = q.popleft()\n",
    "        for v in adj_list[u]:\n",
    "            if d[v] == -1:\n",
    "                d[v] = d[u] + 1\n",
    "                edges.append(\"%d %d\" % (u, v))\n",
    "                q.append(v)\n",
    "    print(\"\\n\".join(edges))"
   ]
  },
  {
   "cell_type": "markdown",
   "metadata": {},
   "source": [
    "## Задача F"
   ]
  },
  {
   "cell_type": "markdown",
   "metadata": {},
   "source": [
    "В данной задаче для каждой клетки таблицы необходимо определить кратчайшее расстояние до клетки со значением 1. Посмотрим на задачу наоборот. Клетки со значением 1 - стартовые клетки. Необходимо определить кратчайшие расстояния до остальных клеток из любой стартовой клетки. Задача решается обычным bfs или алгоритмом Ли, только стартовых вершин может быть больше одной. Формула $|x_1-x_2|+|y_1-y_2|$ говорит о том, что ходы возможны только по горизонтали и вертикали. "
   ]
  },
  {
   "cell_type": "code",
   "execution_count": null,
   "metadata": {},
   "outputs": [],
   "source": [
    "from collections import deque\n",
    "\n",
    "if __name__ == \"__main__\":\n",
    "    n, m = map(int, input().strip().split())\n",
    "    table = []\n",
    "    for _ in range(n):\n",
    "        table.append(list(map(int, input().strip().split())))\n",
    "    d = [[-1] * m for _ in range(n)]\n",
    "    q = deque()\n",
    "    for i in range(n):\n",
    "        for j in range(m):\n",
    "            if table[i][j]:\n",
    "                d[i][j] = 0\n",
    "                q.append((i, j))\n",
    "    while q:\n",
    "        u = q.popleft()\n",
    "        for i, j in [(1, 0), (0, -1), (-1, 0), (0, 1)]:\n",
    "            v = (u[0] + i, u[1] + j)\n",
    "            if 0 <= v[0] < n and 0 <= v[1] < m and d[v[0]][v[1]] == -1:\n",
    "                d[v[0]][v[1]] = d[u[0]][u[1]] + 1\n",
    "                q.append(v)\n",
    "    for line in d:\n",
    "        print(*line)"
   ]
  },
  {
   "cell_type": "markdown",
   "metadata": {},
   "source": [
    "## Задача G"
   ]
  },
  {
   "cell_type": "markdown",
   "metadata": {},
   "source": [
    "Представим наши четырехзначные числа вершинами графа, а действия - ребрами. Тогда воспользуемся bfs, чтобы найти кратчайший путь из s в t. Заметьте, что тут мы не храним длину пути, а только вершину предка при помощи словаря. Посещенность вершины мы проверяем по ее наличию ключа в словаре."
   ]
  },
  {
   "cell_type": "code",
   "execution_count": null,
   "metadata": {},
   "outputs": [],
   "source": [
    "from collections import deque\n",
    "\n",
    "\n",
    "def move(u):\n",
    "    res = [u // 10 + u % 10 * 1000, u // 1000 + u % 1000 * 10]\n",
    "    if u // 1000 != 9:\n",
    "        res.append(u + 1000)\n",
    "    if u % 10 != 1:\n",
    "        res.append(u - 1)\n",
    "    return res\n",
    "\n",
    "\n",
    "if __name__ == \"__main__\":\n",
    "    s = int(input().strip())\n",
    "    t = int(input().strip())\n",
    "    p = {s: -1}\n",
    "    q = deque()\n",
    "    q.append(s)\n",
    "    while q:\n",
    "        u = q.popleft()\n",
    "        for v in move(u):\n",
    "            if v not in p:\n",
    "                p[v] = u\n",
    "                q.append(v)\n",
    "    path = [t]\n",
    "    c = t\n",
    "    while p[c] != -1:\n",
    "        c = p[c]\n",
    "        path.append(c)\n",
    "    print(*path[::-1], sep=\"\\n\")"
   ]
  },
  {
   "cell_type": "markdown",
   "metadata": {},
   "source": [
    "## Задача H"
   ]
  },
  {
   "cell_type": "markdown",
   "metadata": {},
   "source": [
    "Решение задачи заключается в следующем. Будем n раз запускать bfs, считая очередную вершину графа стартовой. Сама функция обхода будет возвращать цикл, который **содержит стартовую вершину**. Если такого цикла нет, то функция возвращает пустой список. Цикл считается найденным, если bfs пытается пойти в стартовую вершину. В этом случае обход завершается, восстанавливается путь и возвращается как результат работы функции. СРеди найденных циклов небходимо выбрать минимальный и распечатать его."
   ]
  },
  {
   "cell_type": "code",
   "execution_count": null,
   "metadata": {},
   "outputs": [],
   "source": [
    "from collections import deque\n",
    "\n",
    "\n",
    "def bfs(adj_list, s):\n",
    "    n = len(adj_list)\n",
    "    d = [False] * n\n",
    "    p = [-1] * n\n",
    "    d[s] = 0\n",
    "    q = deque()\n",
    "    q.append(s)\n",
    "\n",
    "    while q:\n",
    "        u = q.popleft()\n",
    "        for v in adj_list[u]:\n",
    "            if v == s:\n",
    "                path = [u]\n",
    "                c = u\n",
    "                while p[c] != -1:\n",
    "                    c = p[c]\n",
    "                    path.append(c)\n",
    "                return path[::-1]\n",
    "            if not d[v]:\n",
    "                d[v] = True\n",
    "                p[v] = u\n",
    "                q.append(v)\n",
    "\n",
    "    return []\n",
    "\n",
    "\n",
    "if __name__ == \"__main__\":\n",
    "    n, m = map(int, input().strip().split())\n",
    "    adj_list = [[] for _ in range(n)]\n",
    "    for _ in range(m):\n",
    "        u, v = map(int, input().strip().split())\n",
    "        adj_list[u].append(v)\n",
    "    best_len = n + 1\n",
    "    cycle = []\n",
    "    for u in range(n):\n",
    "        c = bfs(adj_list, u)\n",
    "        if c and len(c) < best_len:\n",
    "            best_len = len(c)\n",
    "            cycle = c\n",
    "    if cycle:\n",
    "        print(*cycle)\n",
    "    else:\n",
    "        print(\"NO CYCLES\")"
   ]
  },
  {
   "cell_type": "markdown",
   "metadata": {},
   "source": [
    "## Задача I"
   ]
  },
  {
   "attachments": {},
   "cell_type": "markdown",
   "metadata": {},
   "source": [
    "Первым шагом, выполняем bfs для двух коней независимо. Получаем две матрицы расстояний d1 и d2. Дальше строим совместную матрицу расстояний d:\n",
    "\n",
    "![lab28_i.png](lab28_i.png)\n",
    "\n",
    "Посмотрим на формулу подробнее. Назовем оцередную клетку с координатами (i, j) целевой. Пока считаем, что $d1_{ij}$ и $d2_{ij}$ одинаковой четности. Если $d1_{ij} = d2_{ij}$, то все очевидно. Не теряя общности, положим $d1_{ij} > d2_{ij}$. Тогда получается, что второй конь доберется до целевой клетки быстрее первого. Причем, первому потребуется еще четное количество шагов, равное $d1_{ij} - d2_{ij}$, чтобы придти в данную клетку. Тем временем второй конь просто будет отходить в любую другую клетку и возвращаться в целевую. Таким образом, он будет просто ходить по циклу длины 2 (а такой всегда есть), пока первый конь не придет в целевую клетку. То есть за один проход второго коня по циклу первый конь будет уменьшать расстояние до целевой клетки на 2. А так как ему нужно было сделать четное кол-во шагов, то кони встретятся ровно в целевой клетке. А $d_{ij} = d1_{ij}$. Аналогично, для $d1_{ij} < d2_{ij}$.\n",
    "\n",
    "Рассмотрим случай разной четности $d1_{ij}$ и $d2_{ij}$. Опять же положим $d1_{ij} > d2_{ij}$. Когда второй конь доберется до целевой клетки, первому останется $d1_{ij} - d2_{ij}$ шагов, которое является нечетным числом. Если второй конь будет постоянно ходить по циклу четной длины, то кони никогда не встретятся в целевой клетке. Пусть тогда второй конь пройдет по циклу нечетной длины. Циклов длины 1 не сущуствует, т.к. это петля, которых тут нет (конь не может не двигаться). Значит минимальный возможный нечетный цикл - цикл длины 3. Посмотрим на изменение координат при движении. Вдоль одной оси возможны изменения +1, +2, -1 и -2. Так как конь делает цикл, то возможный цикл длины три сочетает в себе три изменения в произвольном порядке: +1, +1, -2 или -1, -1, +2. Нечетные циклы большей длины будут сводиться к циклам длины 3. Ходы +2/-2 и +1/-1 в пределах одного цикла просто нейтрализуют друг друга. Циклы, которые не содержат взаимоисключающих ходов, просто сводятся к повторению цикла длины 3 некоторое количество раз. Пусть мы сделали изменения +1, +1, -2 по одной оси. Посмотрим на изменения координат на другой оси. Их сумма также должна давать 0. На каждый +1 приходится +2 или -2, а на -2 приходится +1 или -1. Рассмотрим список возможных изменений:\n",
    "\n",
    "+ +2 +2 +1\n",
    "+ +2 +2 -1\n",
    "+ +2 -2 +1\n",
    "+ +2 -2 -1\n",
    "+ -2 +2 +1\n",
    "+ -2 +2 -1\n",
    "+ -2 -2 +1\n",
    "+ -2 -2 -1\n",
    "\n",
    "Заметим, что ни одна из представленных выше комбинаций не дает в сумме 0, а какое-то нечетное число. Такой же список будет для изменений -1, -1, +2. Значит циклов длины 3 не существует. Если предположить, что циклы длины 5, не сводятся к циклам длины 3, то от цикла длины 3 он может отличаться только наличием пар ходов +2/-2 или +1/-1. При этом суммы из списка могут увеличиться/уменьшится только на четное число, что все равно не даст 0. А так как это не влияет на четность сумм, то можем считать, что суммы из списка не поменялись, а значит цикл длины 5 сводится к циклу длины 3. Таким образом, второй конь никогда не пройдет по циклу нечетной длины, а значит кони не смогут встретиться в целевой клетке."
   ]
  },
  {
   "cell_type": "code",
   "execution_count": null,
   "metadata": {},
   "outputs": [],
   "source": [
    "from collections import deque\n",
    "\n",
    "\n",
    "def bfs(s):\n",
    "    d = [[-1] * 8 for _ in range(8)]\n",
    "    d[s[0]][s[1]] = 0\n",
    "    q = deque()\n",
    "    q.append(s)\n",
    "    moves = [(+1, +2), (+2, +1), (+2, -1), (+1, -2),\n",
    "             (-1, -2), (-2, -1), (-2, +1), (-1, +2)]\n",
    "    \n",
    "    while q:\n",
    "        u = q.popleft()\n",
    "        for i, j in moves:\n",
    "            v = (u[0] + i, u[1] + j)\n",
    "            if 0 <= v[0] < 8 and 0 <= v[1] < 8 and d[v[0]][v[1]] == -1:\n",
    "                d[v[0]][v[1]] = d[u[0]][u[1]] + 1\n",
    "                q.append(v)\n",
    "\n",
    "    return d\n",
    "\n",
    "\n",
    "if __name__ == \"__main__\":\n",
    "    to_int = lambda x: (ord(x[0]) - ord(\"a\"), int(x[1]) - 1)\n",
    "    s, t = map(to_int, input().strip().split())\n",
    "    d1 = bfs(s)\n",
    "    d2 = bfs(t)\n",
    "    shortest = -1\n",
    "    for i in range(8):\n",
    "        for j in range(8):\n",
    "            d = -1 if (d1[i][j] + d2[i][j]) % 2 else max(d1[i][j], d2[i][j])\n",
    "            if d != -1 and (shortest == -1 or shortest > d):\n",
    "                shortest = d\n",
    "    print(shortest)"
   ]
  }
 ],
 "metadata": {
  "kernelspec": {
   "display_name": "Python 3",
   "language": "python",
   "name": "python3"
  },
  "language_info": {
   "codemirror_mode": {
    "name": "ipython",
    "version": 3
   },
   "file_extension": ".py",
   "mimetype": "text/x-python",
   "name": "python",
   "nbconvert_exporter": "python",
   "pygments_lexer": "ipython3",
   "version": "3.6.7"
  }
 },
 "nbformat": 4,
 "nbformat_minor": 2
}
