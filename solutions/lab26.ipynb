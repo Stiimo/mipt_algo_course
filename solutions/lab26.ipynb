{
 "cells": [
  {
   "cell_type": "markdown",
   "metadata": {},
   "source": [
    "# Контест: графы, поиск в глубину"
   ]
  },
  {
   "cell_type": "markdown",
   "metadata": {},
   "source": [
    "## Задача D"
   ]
  },
  {
   "cell_type": "markdown",
   "metadata": {},
   "source": [
    "В данном ориентированном графе необходимо проверить, что для каждой пары различных вершин есть хотя бы одно ребро (ориентация не важна). Причем в графе могут быть как петли, так и кратные ребра. Одним из простых способов является превращение ориентированного графа в неориентированный и проверка получившегося графа на полноту."
   ]
  },
  {
   "cell_type": "code",
   "execution_count": null,
   "metadata": {},
   "outputs": [],
   "source": [
    "if __name__ == \"__main__\":\n",
    "    n, m = map(int, input().strip().split())\n",
    "    a= [[0] * n for _ in range(n)]\n",
    "    for _ in range(m):\n",
    "        u, v = map(int, input().strip().split())\n",
    "        a[u][v] = 1\n",
    "        a[v][u] = 1\n",
    "    for i in range(n):\n",
    "        for j in range(i + 1, n):\n",
    "            if a[i][j] == 0:\n",
    "                print(\"NO\")\n",
    "                exit(0)\n",
    "    print(\"YES\")"
   ]
  },
  {
   "cell_type": "markdown",
   "metadata": {},
   "source": [
    "## Задача E"
   ]
  },
  {
   "cell_type": "markdown",
   "metadata": {},
   "source": [
    "В данной задаче необходимо было найти цикл в ориентированном графе или сказать, что его нет. Подход с использованием двух цветов не работает для ориентированного графа (попробуйте подобрать контрпример), поэтому для решения задачи необходимо увеличить кол-во цветов. В лабе №25 описан такой подход, только тут еще надо распечатать сам цикл. "
   ]
  },
  {
   "cell_type": "code",
   "execution_count": null,
   "metadata": {},
   "outputs": [],
   "source": [
    "def dfs(u, adj, color, path):\n",
    "    color[u] = 1\n",
    "    for v in adj[u]:\n",
    "        if color[v] == 0:\n",
    "            dfs(v, adj, color, path + [v])\n",
    "        elif color[v] == 1:\n",
    "            pos = path.index(v)\n",
    "            print(*path[pos:])\n",
    "            exit(0)\n",
    "    color[u] = 2\n",
    "\n",
    "\n",
    "if __name__ == \"__main__\":\n",
    "    n, m = map(int, input().strip().split())\n",
    "    adj = [[] for _ in range(n)]\n",
    "    for _ in range(m):\n",
    "        u, v = map(int, input().strip().split())\n",
    "        adj[u].append(v)\n",
    "    color = [0] * n\n",
    "    for i in range(n):\n",
    "        if color[i] == 0:\n",
    "            dfs(i, adj, color, [i])\n",
    "    print(\"YES\")"
   ]
  },
  {
   "cell_type": "markdown",
   "metadata": {},
   "source": [
    "## Задача F"
   ]
  },
  {
   "cell_type": "markdown",
   "metadata": {},
   "source": [
    "Как и задача E, топологочиская сортировка рассматривается в лабе."
   ]
  },
  {
   "cell_type": "code",
   "execution_count": null,
   "metadata": {},
   "outputs": [],
   "source": [
    "def dfs(u, adj, color, order):\n",
    "    color[u] = 1\n",
    "    for v in adj[u]:\n",
    "        if color[v] == 0:\n",
    "            dfs(v, adj, color, order)\n",
    "        elif color[v] == 1:\n",
    "            print(\"NO\")\n",
    "            exit(0)\n",
    "    color[u] = 2\n",
    "    order.append(u)\n",
    "\n",
    "\n",
    "if __name__ == \"__main__\":\n",
    "    n, m = map(int, input().strip().split())\n",
    "    adj = [[] for _ in range(n)]\n",
    "    in_deg = [0] * n\n",
    "    for _ in range(m):\n",
    "        u, v = map(int, input().strip().split())\n",
    "        in_deg[v] += 1\n",
    "        adj[u].append(v)\n",
    "    color = [0] * n\n",
    "    order = []\n",
    "    for i in range(n):\n",
    "        if in_deg[i] == 0:\n",
    "            dfs(i, adj, color, order)\n",
    "    if not order:\n",
    "        print(\"NO\")\n",
    "    else:\n",
    "        print(*order[::-1])"
   ]
  },
  {
   "cell_type": "markdown",
   "metadata": {},
   "source": [
    "## Задача G"
   ]
  },
  {
   "cell_type": "markdown",
   "metadata": {},
   "source": [
    "Вопрос задачи можно переформулировать как \"Является ли граф двудольным?\".Для решения этой задачи надо было определить, есть ли в нем циклы отрицательной длины. Если нет, то разбиение на 2 доли возможно, иначе нет. Однако, если решать задачу с ориентированным графом, то даже при отсутствии таких циклов граф может не быть двудольным. Поэтому надо было сначала превратить граф в неориентированный, а потом искать циклы."
   ]
  },
  {
   "cell_type": "code",
   "execution_count": null,
   "metadata": {},
   "outputs": [],
   "source": [
    "def dfs(u, adj, group):\n",
    "    for v in adj[u]:\n",
    "        if group[v] == 2:\n",
    "            group[v] = group[u] ^ 1\n",
    "            dfs(v, adj, group)\n",
    "        elif group[u] == group[v]:\n",
    "            print(\"NO\")\n",
    "            exit(0)\n",
    "\n",
    "\n",
    "if __name__ == \"__main__\":\n",
    "    n, m = map(int, input().strip().split())\n",
    "    adj = [[] for _ in range(n)]\n",
    "    for _ in range(m):\n",
    "        u, v = map(int, input().strip().split())\n",
    "        adj[u].append(v)\n",
    "        adj[v].append(u)\n",
    "    group = [2] * n\n",
    "    for i in range(n):\n",
    "        if group[i] == 2:\n",
    "            group[i] = 1\n",
    "            dfs(i, adj, group)\n",
    "    print(*[i for i, g in enumerate(group) if g])"
   ]
  },
  {
   "cell_type": "markdown",
   "metadata": {},
   "source": [
    "## Задача H"
   ]
  },
  {
   "cell_type": "markdown",
   "metadata": {},
   "source": [
    "Основная модификация dfs в этой задаче в том, что мы перекрашиваем вершины назад, когда откатываемся из них. Кроме того, появляется дополнительный критерйи останова рекурсии: как только мы добрались до стартовой вершины, мы нашли цикл. Если найденный цикл длины N, то мы нашли гамильтонов цикл, иначе нет. Запускать dfs надо один раз, из любой вершины."
   ]
  },
  {
   "cell_type": "code",
   "execution_count": null,
   "metadata": {},
   "outputs": [],
   "source": [
    "def dfs(u, adj, used, path):\n",
    "    used[u] = True\n",
    "    for v in adj[u]:\n",
    "        if not used[v]:\n",
    "            dfs(v, adj, used, path + [v])\n",
    "        elif v == 0 and len(path) == len(used):\n",
    "            print(*path)\n",
    "            exit(0)\n",
    "    used[u] = False\n",
    "\n",
    "\n",
    "if __name__ == \"__main__\":\n",
    "    n, m = map(int, input().strip().split())\n",
    "    adj = [[] for _ in range(n)]\n",
    "    for _ in range(m):\n",
    "        u, v = map(int, input().strip().split())\n",
    "        adj[u].append(v)\n",
    "        adj[v].append(u)\n",
    "    dfs(0, adj, [False]*n, [0])"
   ]
  }
 ],
 "metadata": {
  "kernelspec": {
   "display_name": "Python 3",
   "language": "python",
   "name": "python3"
  },
  "language_info": {
   "codemirror_mode": {
    "name": "ipython",
    "version": 3
   },
   "file_extension": ".py",
   "mimetype": "text/x-python",
   "name": "python",
   "nbconvert_exporter": "python",
   "pygments_lexer": "ipython3",
   "version": "3.6.7"
  }
 },
 "nbformat": 4,
 "nbformat_minor": 2
}
