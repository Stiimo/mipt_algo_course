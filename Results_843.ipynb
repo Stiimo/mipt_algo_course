{
 "cells": [
  {
   "cell_type": "code",
   "execution_count": 4,
   "metadata": {},
   "outputs": [
    {
     "data": {
      "text/html": [
       "<style  type=\"text/css\" >\n",
       "    #T_ef949848_2b7a_11e9_a7a7_6cf049e73431row17_col0 {\n",
       "            font-weight:  bold;\n",
       "        }</style><table id=\"T_ef949848_2b7a_11e9_a7a7_6cf049e73431\" ><thead>    <tr>        <th class=\"blank level0\" ></th>        <th class=\"col_heading level0 col0\" >ФИО</th>    </tr></thead><tbody>\n",
       "                <tr>\n",
       "                        <th id=\"T_ef949848_2b7a_11e9_a7a7_6cf049e73431level0_row0\" class=\"row_heading level0 row0\" >0</th>\n",
       "                        <td id=\"T_ef949848_2b7a_11e9_a7a7_6cf049e73431row0_col0\" class=\"data row0 col0\" >Алиулин Кирилл</td>\n",
       "            </tr>\n",
       "            <tr>\n",
       "                        <th id=\"T_ef949848_2b7a_11e9_a7a7_6cf049e73431level0_row1\" class=\"row_heading level0 row1\" >1</th>\n",
       "                        <td id=\"T_ef949848_2b7a_11e9_a7a7_6cf049e73431row1_col0\" class=\"data row1 col0\" >Бегишев Руслан</td>\n",
       "            </tr>\n",
       "            <tr>\n",
       "                        <th id=\"T_ef949848_2b7a_11e9_a7a7_6cf049e73431level0_row2\" class=\"row_heading level0 row2\" >2</th>\n",
       "                        <td id=\"T_ef949848_2b7a_11e9_a7a7_6cf049e73431row2_col0\" class=\"data row2 col0\" >Безик Дарья</td>\n",
       "            </tr>\n",
       "            <tr>\n",
       "                        <th id=\"T_ef949848_2b7a_11e9_a7a7_6cf049e73431level0_row3\" class=\"row_heading level0 row3\" >3</th>\n",
       "                        <td id=\"T_ef949848_2b7a_11e9_a7a7_6cf049e73431row3_col0\" class=\"data row3 col0\" >Березникова Людмила</td>\n",
       "            </tr>\n",
       "            <tr>\n",
       "                        <th id=\"T_ef949848_2b7a_11e9_a7a7_6cf049e73431level0_row4\" class=\"row_heading level0 row4\" >4</th>\n",
       "                        <td id=\"T_ef949848_2b7a_11e9_a7a7_6cf049e73431row4_col0\" class=\"data row4 col0\" >Воронов Илья</td>\n",
       "            </tr>\n",
       "            <tr>\n",
       "                        <th id=\"T_ef949848_2b7a_11e9_a7a7_6cf049e73431level0_row5\" class=\"row_heading level0 row5\" >5</th>\n",
       "                        <td id=\"T_ef949848_2b7a_11e9_a7a7_6cf049e73431row5_col0\" class=\"data row5 col0\" >Гнедова Елизавета</td>\n",
       "            </tr>\n",
       "            <tr>\n",
       "                        <th id=\"T_ef949848_2b7a_11e9_a7a7_6cf049e73431level0_row6\" class=\"row_heading level0 row6\" >6</th>\n",
       "                        <td id=\"T_ef949848_2b7a_11e9_a7a7_6cf049e73431row6_col0\" class=\"data row6 col0\" >Грудцын Андрей</td>\n",
       "            </tr>\n",
       "            <tr>\n",
       "                        <th id=\"T_ef949848_2b7a_11e9_a7a7_6cf049e73431level0_row7\" class=\"row_heading level0 row7\" >7</th>\n",
       "                        <td id=\"T_ef949848_2b7a_11e9_a7a7_6cf049e73431row7_col0\" class=\"data row7 col0\" >Даньшина Анастасия</td>\n",
       "            </tr>\n",
       "            <tr>\n",
       "                        <th id=\"T_ef949848_2b7a_11e9_a7a7_6cf049e73431level0_row8\" class=\"row_heading level0 row8\" >8</th>\n",
       "                        <td id=\"T_ef949848_2b7a_11e9_a7a7_6cf049e73431row8_col0\" class=\"data row8 col0\" >Емекеев Иван</td>\n",
       "            </tr>\n",
       "            <tr>\n",
       "                        <th id=\"T_ef949848_2b7a_11e9_a7a7_6cf049e73431level0_row9\" class=\"row_heading level0 row9\" >9</th>\n",
       "                        <td id=\"T_ef949848_2b7a_11e9_a7a7_6cf049e73431row9_col0\" class=\"data row9 col0\" >Ерицян Эдуард</td>\n",
       "            </tr>\n",
       "            <tr>\n",
       "                        <th id=\"T_ef949848_2b7a_11e9_a7a7_6cf049e73431level0_row10\" class=\"row_heading level0 row10\" >10</th>\n",
       "                        <td id=\"T_ef949848_2b7a_11e9_a7a7_6cf049e73431row10_col0\" class=\"data row10 col0\" >Заверткина Мария</td>\n",
       "            </tr>\n",
       "            <tr>\n",
       "                        <th id=\"T_ef949848_2b7a_11e9_a7a7_6cf049e73431level0_row11\" class=\"row_heading level0 row11\" >11</th>\n",
       "                        <td id=\"T_ef949848_2b7a_11e9_a7a7_6cf049e73431row11_col0\" class=\"data row11 col0\" >Климков Антон</td>\n",
       "            </tr>\n",
       "            <tr>\n",
       "                        <th id=\"T_ef949848_2b7a_11e9_a7a7_6cf049e73431level0_row12\" class=\"row_heading level0 row12\" >12</th>\n",
       "                        <td id=\"T_ef949848_2b7a_11e9_a7a7_6cf049e73431row12_col0\" class=\"data row12 col0\" >Крупина Анна</td>\n",
       "            </tr>\n",
       "            <tr>\n",
       "                        <th id=\"T_ef949848_2b7a_11e9_a7a7_6cf049e73431level0_row13\" class=\"row_heading level0 row13\" >13</th>\n",
       "                        <td id=\"T_ef949848_2b7a_11e9_a7a7_6cf049e73431row13_col0\" class=\"data row13 col0\" >Сараев Захар</td>\n",
       "            </tr>\n",
       "            <tr>\n",
       "                        <th id=\"T_ef949848_2b7a_11e9_a7a7_6cf049e73431level0_row14\" class=\"row_heading level0 row14\" >14</th>\n",
       "                        <td id=\"T_ef949848_2b7a_11e9_a7a7_6cf049e73431row14_col0\" class=\"data row14 col0\" >Сутягина Юлия</td>\n",
       "            </tr>\n",
       "            <tr>\n",
       "                        <th id=\"T_ef949848_2b7a_11e9_a7a7_6cf049e73431level0_row15\" class=\"row_heading level0 row15\" >15</th>\n",
       "                        <td id=\"T_ef949848_2b7a_11e9_a7a7_6cf049e73431row15_col0\" class=\"data row15 col0\" >Терешина Екатерина</td>\n",
       "            </tr>\n",
       "            <tr>\n",
       "                        <th id=\"T_ef949848_2b7a_11e9_a7a7_6cf049e73431level0_row16\" class=\"row_heading level0 row16\" >16</th>\n",
       "                        <td id=\"T_ef949848_2b7a_11e9_a7a7_6cf049e73431row16_col0\" class=\"data row16 col0\" >Чичеватов Глеб</td>\n",
       "            </tr>\n",
       "            <tr>\n",
       "                        <th id=\"T_ef949848_2b7a_11e9_a7a7_6cf049e73431level0_row17\" class=\"row_heading level0 row17\" >17</th>\n",
       "                        <td id=\"T_ef949848_2b7a_11e9_a7a7_6cf049e73431row17_col0\" class=\"data row17 col0\" >Максимум</td>\n",
       "            </tr>\n",
       "    </tbody></table>"
      ],
      "text/plain": [
       "<pandas.io.formats.style.Styler at 0x7f28bd1715c0>"
      ]
     },
     "execution_count": 4,
     "metadata": {},
     "output_type": "execute_result"
    }
   ],
   "source": [
    "data.style.set_properties(pd.IndexSlice[17:, :], **{\"font-weight\": \"bold\"})"
   ]
  },
  {
   "cell_type": "code",
   "execution_count": 2,
   "metadata": {},
   "outputs": [],
   "source": [
    "import pandas as pd"
   ]
  },
  {
   "cell_type": "code",
   "execution_count": 3,
   "metadata": {},
   "outputs": [],
   "source": [
    "data = pd.read_csv(\"results_843.csv\", header=0)"
   ]
  }
 ],
 "metadata": {
  "kernelspec": {
   "display_name": "Python 3",
   "language": "python",
   "name": "python3"
  },
  "language_info": {
   "codemirror_mode": {
    "name": "ipython",
    "version": 3
   },
   "file_extension": ".py",
   "mimetype": "text/x-python",
   "name": "python",
   "nbconvert_exporter": "python",
   "pygments_lexer": "ipython3",
   "version": "3.6.7"
  }
 },
 "nbformat": 4,
 "nbformat_minor": 2
}
