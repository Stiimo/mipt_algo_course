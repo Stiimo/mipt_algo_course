{
 "cells": [
  {
   "cell_type": "code",
   "execution_count": 4,
   "metadata": {},
   "outputs": [
    {
     "data": {
      "text/html": [
       "<style  type=\"text/css\" >\n",
       "    #T_c6d25cde_5185_11e9_ab2a_02427173550brow16_col0 {\n",
       "            font-weight:  bold;\n",
       "        }    #T_c6d25cde_5185_11e9_ab2a_02427173550brow16_col1 {\n",
       "            font-weight:  bold;\n",
       "        }    #T_c6d25cde_5185_11e9_ab2a_02427173550brow16_col2 {\n",
       "            font-weight:  bold;\n",
       "        }</style>  \n",
       "<table id=\"T_c6d25cde_5185_11e9_ab2a_02427173550b\" > \n",
       "<thead>    <tr> \n",
       "        <th class=\"blank level0\" ></th> \n",
       "        <th class=\"col_heading level0 col0\" >ФИО</th> \n",
       "        <th class=\"col_heading level0 col1\" >Строки</th> \n",
       "        <th class=\"col_heading level0 col2\" >Кр1</th> \n",
       "    </tr></thead> \n",
       "<tbody>    <tr> \n",
       "        <th id=\"T_c6d25cde_5185_11e9_ab2a_02427173550blevel0_row0\" class=\"row_heading level0 row0\" >0</th> \n",
       "        <td id=\"T_c6d25cde_5185_11e9_ab2a_02427173550brow0_col0\" class=\"data row0 col0\" >Алиулин Кирилл</td> \n",
       "        <td id=\"T_c6d25cde_5185_11e9_ab2a_02427173550brow0_col1\" class=\"data row0 col1\" >728</td> \n",
       "        <td id=\"T_c6d25cde_5185_11e9_ab2a_02427173550brow0_col2\" class=\"data row0 col2\" >671</td> \n",
       "    </tr>    <tr> \n",
       "        <th id=\"T_c6d25cde_5185_11e9_ab2a_02427173550blevel0_row1\" class=\"row_heading level0 row1\" >1</th> \n",
       "        <td id=\"T_c6d25cde_5185_11e9_ab2a_02427173550brow1_col0\" class=\"data row1 col0\" >Бегишев Руслан</td> \n",
       "        <td id=\"T_c6d25cde_5185_11e9_ab2a_02427173550brow1_col1\" class=\"data row1 col1\" >197</td> \n",
       "        <td id=\"T_c6d25cde_5185_11e9_ab2a_02427173550brow1_col2\" class=\"data row1 col2\" >202</td> \n",
       "    </tr>    <tr> \n",
       "        <th id=\"T_c6d25cde_5185_11e9_ab2a_02427173550blevel0_row2\" class=\"row_heading level0 row2\" >2</th> \n",
       "        <td id=\"T_c6d25cde_5185_11e9_ab2a_02427173550brow2_col0\" class=\"data row2 col0\" >Безик Дарья</td> \n",
       "        <td id=\"T_c6d25cde_5185_11e9_ab2a_02427173550brow2_col1\" class=\"data row2 col1\" >596</td> \n",
       "        <td id=\"T_c6d25cde_5185_11e9_ab2a_02427173550brow2_col2\" class=\"data row2 col2\" >750</td> \n",
       "    </tr>    <tr> \n",
       "        <th id=\"T_c6d25cde_5185_11e9_ab2a_02427173550blevel0_row3\" class=\"row_heading level0 row3\" >3</th> \n",
       "        <td id=\"T_c6d25cde_5185_11e9_ab2a_02427173550brow3_col0\" class=\"data row3 col0\" >Березникова Людмила</td> \n",
       "        <td id=\"T_c6d25cde_5185_11e9_ab2a_02427173550brow3_col1\" class=\"data row3 col1\" >791</td> \n",
       "        <td id=\"T_c6d25cde_5185_11e9_ab2a_02427173550brow3_col2\" class=\"data row3 col2\" >-</td> \n",
       "    </tr>    <tr> \n",
       "        <th id=\"T_c6d25cde_5185_11e9_ab2a_02427173550blevel0_row4\" class=\"row_heading level0 row4\" >4</th> \n",
       "        <td id=\"T_c6d25cde_5185_11e9_ab2a_02427173550brow4_col0\" class=\"data row4 col0\" >Воронов Илья</td> \n",
       "        <td id=\"T_c6d25cde_5185_11e9_ab2a_02427173550brow4_col1\" class=\"data row4 col1\" >899</td> \n",
       "        <td id=\"T_c6d25cde_5185_11e9_ab2a_02427173550brow4_col2\" class=\"data row4 col2\" >399</td> \n",
       "    </tr>    <tr> \n",
       "        <th id=\"T_c6d25cde_5185_11e9_ab2a_02427173550blevel0_row5\" class=\"row_heading level0 row5\" >5</th> \n",
       "        <td id=\"T_c6d25cde_5185_11e9_ab2a_02427173550brow5_col0\" class=\"data row5 col0\" >Гнедова Елизавета</td> \n",
       "        <td id=\"T_c6d25cde_5185_11e9_ab2a_02427173550brow5_col1\" class=\"data row5 col1\" >897</td> \n",
       "        <td id=\"T_c6d25cde_5185_11e9_ab2a_02427173550brow5_col2\" class=\"data row5 col2\" >693</td> \n",
       "    </tr>    <tr> \n",
       "        <th id=\"T_c6d25cde_5185_11e9_ab2a_02427173550blevel0_row6\" class=\"row_heading level0 row6\" >6</th> \n",
       "        <td id=\"T_c6d25cde_5185_11e9_ab2a_02427173550brow6_col0\" class=\"data row6 col0\" >Даньшина Анастасия</td> \n",
       "        <td id=\"T_c6d25cde_5185_11e9_ab2a_02427173550brow6_col1\" class=\"data row6 col1\" >894</td> \n",
       "        <td id=\"T_c6d25cde_5185_11e9_ab2a_02427173550brow6_col2\" class=\"data row6 col2\" >648</td> \n",
       "    </tr>    <tr> \n",
       "        <th id=\"T_c6d25cde_5185_11e9_ab2a_02427173550blevel0_row7\" class=\"row_heading level0 row7\" >7</th> \n",
       "        <td id=\"T_c6d25cde_5185_11e9_ab2a_02427173550brow7_col0\" class=\"data row7 col0\" >Емекеев Иван</td> \n",
       "        <td id=\"T_c6d25cde_5185_11e9_ab2a_02427173550brow7_col1\" class=\"data row7 col1\" >898</td> \n",
       "        <td id=\"T_c6d25cde_5185_11e9_ab2a_02427173550brow7_col2\" class=\"data row7 col2\" >629</td> \n",
       "    </tr>    <tr> \n",
       "        <th id=\"T_c6d25cde_5185_11e9_ab2a_02427173550blevel0_row8\" class=\"row_heading level0 row8\" >8</th> \n",
       "        <td id=\"T_c6d25cde_5185_11e9_ab2a_02427173550brow8_col0\" class=\"data row8 col0\" >Ерицян Эдуард</td> \n",
       "        <td id=\"T_c6d25cde_5185_11e9_ab2a_02427173550brow8_col1\" class=\"data row8 col1\" >897</td> \n",
       "        <td id=\"T_c6d25cde_5185_11e9_ab2a_02427173550brow8_col2\" class=\"data row8 col2\" >746</td> \n",
       "    </tr>    <tr> \n",
       "        <th id=\"T_c6d25cde_5185_11e9_ab2a_02427173550blevel0_row9\" class=\"row_heading level0 row9\" >9</th> \n",
       "        <td id=\"T_c6d25cde_5185_11e9_ab2a_02427173550brow9_col0\" class=\"data row9 col0\" >Заверткина Мария</td> \n",
       "        <td id=\"T_c6d25cde_5185_11e9_ab2a_02427173550brow9_col1\" class=\"data row9 col1\" >493</td> \n",
       "        <td id=\"T_c6d25cde_5185_11e9_ab2a_02427173550brow9_col2\" class=\"data row9 col2\" >398</td> \n",
       "    </tr>    <tr> \n",
       "        <th id=\"T_c6d25cde_5185_11e9_ab2a_02427173550blevel0_row10\" class=\"row_heading level0 row10\" >10</th> \n",
       "        <td id=\"T_c6d25cde_5185_11e9_ab2a_02427173550brow10_col0\" class=\"data row10 col0\" >Климков Антон</td> \n",
       "        <td id=\"T_c6d25cde_5185_11e9_ab2a_02427173550brow10_col1\" class=\"data row10 col1\" >696</td> \n",
       "        <td id=\"T_c6d25cde_5185_11e9_ab2a_02427173550brow10_col2\" class=\"data row10 col2\" >392</td> \n",
       "    </tr>    <tr> \n",
       "        <th id=\"T_c6d25cde_5185_11e9_ab2a_02427173550blevel0_row11\" class=\"row_heading level0 row11\" >11</th> \n",
       "        <td id=\"T_c6d25cde_5185_11e9_ab2a_02427173550brow11_col0\" class=\"data row11 col0\" >Крупина Анна</td> \n",
       "        <td id=\"T_c6d25cde_5185_11e9_ab2a_02427173550brow11_col1\" class=\"data row11 col1\" >896</td> \n",
       "        <td id=\"T_c6d25cde_5185_11e9_ab2a_02427173550brow11_col2\" class=\"data row11 col2\" >532</td> \n",
       "    </tr>    <tr> \n",
       "        <th id=\"T_c6d25cde_5185_11e9_ab2a_02427173550blevel0_row12\" class=\"row_heading level0 row12\" >12</th> \n",
       "        <td id=\"T_c6d25cde_5185_11e9_ab2a_02427173550brow12_col0\" class=\"data row12 col0\" >Сараев Захар</td> \n",
       "        <td id=\"T_c6d25cde_5185_11e9_ab2a_02427173550brow12_col1\" class=\"data row12 col1\" >715</td> \n",
       "        <td id=\"T_c6d25cde_5185_11e9_ab2a_02427173550brow12_col2\" class=\"data row12 col2\" >521</td> \n",
       "    </tr>    <tr> \n",
       "        <th id=\"T_c6d25cde_5185_11e9_ab2a_02427173550blevel0_row13\" class=\"row_heading level0 row13\" >13</th> \n",
       "        <td id=\"T_c6d25cde_5185_11e9_ab2a_02427173550brow13_col0\" class=\"data row13 col0\" >Сутягина Юлия</td> \n",
       "        <td id=\"T_c6d25cde_5185_11e9_ab2a_02427173550brow13_col1\" class=\"data row13 col1\" >497</td> \n",
       "        <td id=\"T_c6d25cde_5185_11e9_ab2a_02427173550brow13_col2\" class=\"data row13 col2\" >548</td> \n",
       "    </tr>    <tr> \n",
       "        <th id=\"T_c6d25cde_5185_11e9_ab2a_02427173550blevel0_row14\" class=\"row_heading level0 row14\" >14</th> \n",
       "        <td id=\"T_c6d25cde_5185_11e9_ab2a_02427173550brow14_col0\" class=\"data row14 col0\" >Терешина Екатерина</td> \n",
       "        <td id=\"T_c6d25cde_5185_11e9_ab2a_02427173550brow14_col1\" class=\"data row14 col1\" >893</td> \n",
       "        <td id=\"T_c6d25cde_5185_11e9_ab2a_02427173550brow14_col2\" class=\"data row14 col2\" >-</td> \n",
       "    </tr>    <tr> \n",
       "        <th id=\"T_c6d25cde_5185_11e9_ab2a_02427173550blevel0_row15\" class=\"row_heading level0 row15\" >15</th> \n",
       "        <td id=\"T_c6d25cde_5185_11e9_ab2a_02427173550brow15_col0\" class=\"data row15 col0\" >Чичеватов Глеб</td> \n",
       "        <td id=\"T_c6d25cde_5185_11e9_ab2a_02427173550brow15_col1\" class=\"data row15 col1\" >397</td> \n",
       "        <td id=\"T_c6d25cde_5185_11e9_ab2a_02427173550brow15_col2\" class=\"data row15 col2\" >199</td> \n",
       "    </tr>    <tr> \n",
       "        <th id=\"T_c6d25cde_5185_11e9_ab2a_02427173550blevel0_row16\" class=\"row_heading level0 row16\" >16</th> \n",
       "        <td id=\"T_c6d25cde_5185_11e9_ab2a_02427173550brow16_col0\" class=\"data row16 col0\" >Максимум</td> \n",
       "        <td id=\"T_c6d25cde_5185_11e9_ab2a_02427173550brow16_col1\" class=\"data row16 col1\" >1050</td> \n",
       "        <td id=\"T_c6d25cde_5185_11e9_ab2a_02427173550brow16_col2\" class=\"data row16 col2\" >1300</td> \n",
       "    </tr></tbody> \n",
       "</table> "
      ],
      "text/plain": [
       "<pandas.io.formats.style.Styler at 0x7efe7ea35978>"
      ]
     },
     "execution_count": 4,
     "metadata": {},
     "output_type": "execute_result"
    }
   ],
   "source": [
    "data.style.set_properties(pd.IndexSlice[16:, :], **{\"font-weight\": \"bold\"})"
   ]
  },
  {
   "cell_type": "code",
   "execution_count": 1,
   "metadata": {},
   "outputs": [],
   "source": [
    "import pandas as pd"
   ]
  },
  {
   "cell_type": "code",
   "execution_count": 2,
   "metadata": {},
   "outputs": [],
   "source": [
    "data = pd.read_csv(\"results_843.csv\", header=0)"
   ]
  }
 ],
 "metadata": {
  "kernelspec": {
   "display_name": "Python 3",
   "language": "python",
   "name": "python3"
  },
  "language_info": {
   "codemirror_mode": {
    "name": "ipython",
    "version": 3
   },
   "file_extension": ".py",
   "mimetype": "text/x-python",
   "name": "python",
   "nbconvert_exporter": "python",
   "pygments_lexer": "ipython3",
   "version": "3.6.7"
  }
 },
 "nbformat": 4,
 "nbformat_minor": 2
}
